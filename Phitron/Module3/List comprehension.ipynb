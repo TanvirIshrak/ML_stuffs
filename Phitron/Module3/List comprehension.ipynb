{
 "cells": [
  {
   "cell_type": "markdown",
   "id": "07ed371d-7642-4fae-bd80-2710e0885909",
   "metadata": {},
   "source": [
    "# List comprehension"
   ]
  },
  {
   "cell_type": "code",
   "execution_count": 3,
   "id": "2f38be12-eeae-4544-ae86-e04481f9cf5a",
   "metadata": {},
   "outputs": [
    {
     "name": "stdout",
     "output_type": "stream",
     "text": [
      "[0, 2, 4, 6, 8, 10, 12, 14, 16, 18, 20, 22, 24, 26, 28, 30, 32, 34, 36, 38, 40, 42, 44, 46, 48, 50, 52, 54, 56, 58, 60, 62, 64, 66, 68, 70, 72, 74, 76, 78, 80, 82, 84, 86, 88, 90, 92, 94, 96, 98, 100]\n"
     ]
    }
   ],
   "source": [
    "# general way\n",
    "even= []\n",
    "#naive \n",
    "for i in range(101):\n",
    "    if i%2==0:\n",
    "        even.append(i)\n",
    "print(even)\n",
    "\n"
   ]
  },
  {
   "cell_type": "code",
   "execution_count": 30,
   "id": "2627022d-34d2-4db8-9ea8-b9d8b9fbc264",
   "metadata": {},
   "outputs": [
    {
     "name": "stdout",
     "output_type": "stream",
     "text": [
      "[1, 2, 3, 4, 5, 6, 7, 8, 9]\n",
      "[4, 16, 36, 64]\n"
     ]
    }
   ],
   "source": [
    "# we can do the same thing in more effecient way\n",
    "# using just one line code\n",
    "# structure : [expression   for _ in range()   condition]\n",
    "rand_list = [x for x in range(1,10)]\n",
    "print(rand_list)\n",
    "\n",
    "rand_list = [x**2 for x in range(1,10) if x%2==0]\n",
    "print(rand_list)"
   ]
  },
  {
   "cell_type": "markdown",
   "id": "0a56cec6-812a-4a3f-a933-52e614772cae",
   "metadata": {},
   "source": [
    "# List Comprehension with List of String"
   ]
  },
  {
   "cell_type": "code",
   "execution_count": 10,
   "id": "2db01daf-0948-4c97-b330-63b8cd336b0f",
   "metadata": {},
   "outputs": [
    {
     "name": "stdout",
     "output_type": "stream",
     "text": [
      "['Apple', 'Orange', 'Banana']\n"
     ]
    }
   ],
   "source": [
    "# general way\n",
    "fruits = ['apple','orange','banana']\n",
    "capitalized_list = []\n",
    "\n",
    "for fruit in fruits:\n",
    "    capitalized_list.append(fruit.capitalize())\n",
    "\n",
    "print(capitalized_list)"
   ]
  },
  {
   "cell_type": "code",
   "execution_count": 13,
   "id": "22e21976-0315-4b0e-b4e3-5ec119569936",
   "metadata": {},
   "outputs": [
    {
     "name": "stdout",
     "output_type": "stream",
     "text": [
      "['APPLE', 'ORANGE', 'RASBERRY']\n"
     ]
    }
   ],
   "source": [
    "# Comprehensive way\n",
    "fruits = ['apple','orange','rasberry']\n",
    "upper_list = [fruit.upper() for fruit in fruits]\n",
    "\n",
    "print(upper_list)"
   ]
  },
  {
   "cell_type": "code",
   "execution_count": 35,
   "id": "960091ae-710a-40b1-b44d-d3490b6cf1fa",
   "metadata": {},
   "outputs": [
    {
     "name": "stdout",
     "output_type": "stream",
     "text": [
      "[1, 2, 3]\n"
     ]
    }
   ],
   "source": [
    "x = [1,2,3,2,4]\n",
    "x.remove(4)\n",
    "x.pop()\n",
    "print(x)"
   ]
  },
  {
   "cell_type": "code",
   "execution_count": null,
   "id": "a3e5c3f2-e08e-401d-a0e5-a6e8b6a14814",
   "metadata": {},
   "outputs": [],
   "source": []
  }
 ],
 "metadata": {
  "kernelspec": {
   "display_name": "Python 3 (ipykernel)",
   "language": "python",
   "name": "python3"
  },
  "language_info": {
   "codemirror_mode": {
    "name": "ipython",
    "version": 3
   },
   "file_extension": ".py",
   "mimetype": "text/x-python",
   "name": "python",
   "nbconvert_exporter": "python",
   "pygments_lexer": "ipython3",
   "version": "3.13.0b4"
  }
 },
 "nbformat": 4,
 "nbformat_minor": 5
}
