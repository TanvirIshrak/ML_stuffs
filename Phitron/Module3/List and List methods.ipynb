{
 "cells": [
  {
   "cell_type": "code",
   "execution_count": 38,
   "id": "525a9a3a-a1c4-49ab-9576-8db6d7ad9b14",
   "metadata": {},
   "outputs": [
    {
     "name": "stdout",
     "output_type": "stream",
     "text": [
      "<class 'list'>\n"
     ]
    }
   ],
   "source": [
    "# declearation\n",
    "numbers = [1,2,4,5,3,90]\n",
    "print(type(numbers))\n",
    "\n"
   ]
  },
  {
   "cell_type": "code",
   "execution_count": 39,
   "id": "93eac62e-6c41-4d70-bb4c-824bda2270f8",
   "metadata": {},
   "outputs": [
    {
     "name": "stdout",
     "output_type": "stream",
     "text": [
      "4\n",
      "[1, 88, 4, 5, 3, 90]\n"
     ]
    }
   ],
   "source": [
    "# access the list\n",
    "print(numbers[2])\n",
    "numbers[1] = 88\n",
    "print(numbers)"
   ]
  },
  {
   "cell_type": "code",
   "execution_count": 40,
   "id": "fdae1572-8da9-439a-9c43-d9fb62781afb",
   "metadata": {},
   "outputs": [
    {
     "name": "stdout",
     "output_type": "stream",
     "text": [
      "[1, 88, 4]\n"
     ]
    }
   ],
   "source": [
    "# slicing\n",
    "n_list = numbers[:3]\n",
    "print(n_list)"
   ]
  },
  {
   "cell_type": "code",
   "execution_count": 41,
   "id": "eba312ac-b197-435a-9ea4-30e3e90ea44b",
   "metadata": {},
   "outputs": [
    {
     "name": "stdout",
     "output_type": "stream",
     "text": [
      "[1, 88, 4, 5, 3, 90, 99]\n"
     ]
    }
   ],
   "source": [
    "# modification\n",
    "\n",
    "# adding a item\n",
    "numbers.append(99)\n",
    "print(numbers)\n",
    "\n"
   ]
  },
  {
   "cell_type": "code",
   "execution_count": 42,
   "id": "78337070-0a46-4843-9b6d-c9671ced1efa",
   "metadata": {},
   "outputs": [],
   "source": [
    "# numbers.insert(3,77) # insert(index, new data)\n",
    "# print(numbers)"
   ]
  },
  {
   "cell_type": "code",
   "execution_count": 45,
   "id": "c8f540cb-88cd-4e7c-90d9-cbde340244ee",
   "metadata": {},
   "outputs": [
    {
     "name": "stdout",
     "output_type": "stream",
     "text": [
      "[1, 88, 4, 5]\n",
      "[1, 88, 5]\n"
     ]
    }
   ],
   "source": [
    "# delete value from the last\n",
    "numbers.pop()\n",
    "print(numbers)\n",
    "\n",
    "#deleting a specific value\n",
    "numbers.remove(4)\n",
    "print(numbers)"
   ]
  },
  {
   "cell_type": "code",
   "execution_count": 3,
   "id": "2b53a05f-dd78-463a-a1b8-0b98c8fde93f",
   "metadata": {},
   "outputs": [
    {
     "name": "stdout",
     "output_type": "stream",
     "text": [
      "[12, 24, 34, 46, 87, 100]\n",
      "[100, 87, 46, 34, 24, 12]\n"
     ]
    }
   ],
   "source": [
    "num =  [34,12,46,24,87,100]\n",
    "\n",
    "# sorting increasing order\n",
    "num.sort()\n",
    "print(num)\n",
    "\n",
    "# making a list reverse\n",
    "num.reverse()    #it can be written as num.sort(reverse=True)\n",
    "print(num)\n"
   ]
  },
  {
   "cell_type": "code",
   "execution_count": null,
   "id": "e844ebfe-6f7d-4027-b71d-3968f94099b9",
   "metadata": {},
   "outputs": [],
   "source": []
  }
 ],
 "metadata": {
  "kernelspec": {
   "display_name": "Python 3 (ipykernel)",
   "language": "python",
   "name": "python3"
  },
  "language_info": {
   "codemirror_mode": {
    "name": "ipython",
    "version": 3
   },
   "file_extension": ".py",
   "mimetype": "text/x-python",
   "name": "python",
   "nbconvert_exporter": "python",
   "pygments_lexer": "ipython3",
   "version": "3.13.0b4"
  }
 },
 "nbformat": 4,
 "nbformat_minor": 5
}
