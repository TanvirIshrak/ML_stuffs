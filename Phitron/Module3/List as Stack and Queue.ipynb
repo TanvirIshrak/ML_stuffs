{
 "cells": [
  {
   "cell_type": "markdown",
   "id": "ddbea368-63ed-41f3-ab27-92755510fd4e",
   "metadata": {},
   "source": [
    "# Stack as list"
   ]
  },
  {
   "cell_type": "code",
   "execution_count": 3,
   "id": "adb0173b-7b1a-4627-a196-b6ddae3de0c7",
   "metadata": {},
   "outputs": [
    {
     "name": "stdout",
     "output_type": "stream",
     "text": [
      "5\n",
      "4\n",
      "3\n",
      "2\n",
      "1\n"
     ]
    }
   ],
   "source": [
    "# in stack the values are as one on another\n",
    "# so the last pushed elemnt will be removed first \n",
    "stack = []\n",
    "\n",
    "# pussing values\n",
    "stack.append(1)\n",
    "stack.append(2)\n",
    "stack.append(3)\n",
    "stack.append(4)\n",
    "stack.append(5)\n",
    "\n",
    "#getting the top element\n",
    "print(stack.pop())\n",
    "print(stack.pop())\n",
    "print(stack.pop())\n",
    "print(stack.pop())\n",
    "print(stack.pop())"
   ]
  },
  {
   "cell_type": "markdown",
   "id": "340dd75e-0c74-434c-8278-eed2bde7ff9b",
   "metadata": {},
   "source": [
    "# Queue as list"
   ]
  },
  {
   "cell_type": "code",
   "execution_count": 5,
   "id": "8e5dc0a2-951b-4bfb-b9f8-de6cd6d90882",
   "metadata": {},
   "outputs": [],
   "source": [
    "# in queue the values are one after another\n",
    "# so the first pushed elemnt will be removed first like the queue\n",
    "# the first customer takes goods first and go awa\n"
   ]
  },
  {
   "cell_type": "code",
   "execution_count": 8,
   "id": "ce99dd70-75dc-494e-bf72-0435d22f6a68",
   "metadata": {},
   "outputs": [
    {
     "name": "stdout",
     "output_type": "stream",
     "text": [
      "1\n",
      "front now = 2\n",
      "2\n",
      "front now = 3\n"
     ]
    }
   ],
   "source": [
    "queue = []\n",
    "\n",
    "# pussing values \n",
    "queue.append(1)\n",
    "queue.append(2)\n",
    "queue.append(3)\n",
    "queue.append(4)\n",
    "queue.append(5)\n",
    "\n",
    "# remove the first element\n",
    "print(queue.pop(0))  # .pop(index)\n",
    "\n",
    "#access\n",
    "print(f\"front now = {queue[0]}\")\n",
    "\n",
    "\n",
    "\n",
    "print(queue.pop(0))\n",
    "print(f\"front now = {queue[0]}\")"
   ]
  },
  {
   "cell_type": "code",
   "execution_count": null,
   "id": "2b0b03f6-dc09-4c44-a5ba-b48c5e32612f",
   "metadata": {},
   "outputs": [],
   "source": []
  }
 ],
 "metadata": {
  "kernelspec": {
   "display_name": "Python 3 (ipykernel)",
   "language": "python",
   "name": "python3"
  },
  "language_info": {
   "codemirror_mode": {
    "name": "ipython",
    "version": 3
   },
   "file_extension": ".py",
   "mimetype": "text/x-python",
   "name": "python",
   "nbconvert_exporter": "python",
   "pygments_lexer": "ipython3",
   "version": "3.13.0b4"
  }
 },
 "nbformat": 4,
 "nbformat_minor": 5
}
