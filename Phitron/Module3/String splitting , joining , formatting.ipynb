{
 "cells": [
  {
   "cell_type": "markdown",
   "id": "d4d99491-9f2d-4add-964c-8fc02c83c6ac",
   "metadata": {},
   "source": [
    "# Splitting"
   ]
  },
  {
   "cell_type": "code",
   "execution_count": 4,
   "id": "2a24baad-7cc2-406b-a70e-f22adfc0788b",
   "metadata": {},
   "outputs": [
    {
     "name": "stdout",
     "output_type": "stream",
     "text": [
      "['what', 'is', 'python']\n",
      "['wha', ' is py', 'hon']\n"
     ]
    }
   ],
   "source": [
    "string = \"what is python\"\n",
    "token = string.split()\n",
    "\n",
    "print(token)\n",
    "\n",
    "#splitting from any desired character\n",
    "tokens = string.split(\"t\")\n",
    "print(tokens)"
   ]
  },
  {
   "cell_type": "markdown",
   "id": "9368f659-3b89-4672-9f37-164989acec1a",
   "metadata": {},
   "source": [
    "# Joining"
   ]
  },
  {
   "cell_type": "code",
   "execution_count": 6,
   "id": "df969161-42e0-4d46-b927-c9a4edef8304",
   "metadata": {},
   "outputs": [
    {
     "name": "stdout",
     "output_type": "stream",
     "text": [
      "what-is-python\n"
     ]
    }
   ],
   "source": [
    "sentence = \"-\".join(token)\n",
    "sentence2 = \" \".join(token)\n",
    "print(sentence)"
   ]
  },
  {
   "cell_type": "markdown",
   "id": "cda7bb5f-f264-423a-97fc-f6b000f8dd7b",
   "metadata": {},
   "source": [
    "# Formatted string"
   ]
  },
  {
   "cell_type": "code",
   "execution_count": 6,
   "id": "bc4e18cf-f9ca-48ac-b02b-a1118a212c38",
   "metadata": {},
   "outputs": [
    {
     "name": "stdout",
     "output_type": "stream",
     "text": [
      "My name is ISHRAK . I'm 22 years old. Height is  5.89.\n",
      "\n",
      "Accuracy is  89.23%\n"
     ]
    }
   ],
   "source": [
    "name = \"Ishrak\"\n",
    "age = 22\n",
    "height = 5.89234234\n",
    "\n",
    "print(f\"My name is {name.upper()} . I'm {age} years old. Height is {height: .3}.\\n\")\n",
    "\n",
    "\n",
    "# float to %\n",
    "accuracy = 0.892342\n",
    "print(f\"Accuracy is {accuracy: .2%}\")\n"
   ]
  },
  {
   "cell_type": "code",
   "execution_count": null,
   "id": "17a683d0-78ae-41bf-aaf8-c08da50521d5",
   "metadata": {},
   "outputs": [],
   "source": []
  }
 ],
 "metadata": {
  "kernelspec": {
   "display_name": "Python 3 (ipykernel)",
   "language": "python",
   "name": "python3"
  },
  "language_info": {
   "codemirror_mode": {
    "name": "ipython",
    "version": 3
   },
   "file_extension": ".py",
   "mimetype": "text/x-python",
   "name": "python",
   "nbconvert_exporter": "python",
   "pygments_lexer": "ipython3",
   "version": "3.13.0b4"
  }
 },
 "nbformat": 4,
 "nbformat_minor": 5
}
