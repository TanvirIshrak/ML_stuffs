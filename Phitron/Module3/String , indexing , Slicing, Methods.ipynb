{
 "cells": [
  {
   "cell_type": "markdown",
   "id": "2e407d30-eb6b-4556-8869-118a183d17c1",
   "metadata": {},
   "source": [
    "# String\n"
   ]
  },
  {
   "cell_type": "code",
   "execution_count": 3,
   "id": "f9e046b0-c0eb-4a28-8fb9-65374297ee33",
   "metadata": {},
   "outputs": [
    {
     "name": "stdout",
     "output_type": "stream",
     "text": [
      "hiee\n",
      "<class 'str'>\n"
     ]
    }
   ],
   "source": [
    "prompt = \"hiee\"\n",
    "print(prompt)\n",
    "print(type(prompt))"
   ]
  },
  {
   "cell_type": "code",
   "execution_count": 7,
   "id": "efa53bb8-d81e-4fb5-8a6a-834ed603ff5a",
   "metadata": {},
   "outputs": [
    {
     "data": {
      "text/plain": [
       "\" hello there!\\nhow are you?\\ni'm looking for a shop\""
      ]
     },
     "execution_count": 7,
     "metadata": {},
     "output_type": "execute_result"
    }
   ],
   "source": [
    "#using 3cotations you can use multiline code in python\n",
    "\n",
    "msg = \"\"\" hello there!\n",
    "how are you?\n",
    "i'm looking for a shop\"\"\"\n",
    "\n",
    "print(msg)\n"
   ]
  },
  {
   "cell_type": "markdown",
   "id": "1b42ac24-7221-4d40-8e70-f4f2025a56b4",
   "metadata": {},
   "source": [
    "# Indexing and Slicing"
   ]
  },
  {
   "cell_type": "code",
   "execution_count": 11,
   "id": "ba1c8252-3542-4e6c-a161-27e9aa6f4774",
   "metadata": {},
   "outputs": [
    {
     "name": "stdout",
     "output_type": "stream",
     "text": [
      "r\n"
     ]
    }
   ],
   "source": [
    "str = \"Hello world\"\n",
    "print(str[8])"
   ]
  },
  {
   "cell_type": "code",
   "execution_count": 15,
   "id": "bd55381c-7ad7-4672-a11d-25da558faef7",
   "metadata": {},
   "outputs": [
    {
     "name": "stdout",
     "output_type": "stream",
     "text": [
      " hello there!\n",
      "\n",
      " el hr!\n"
     ]
    }
   ],
   "source": [
    "first_msg = msg[0:14]  # String[start : end : steps]\n",
    "print(first_msg)\n",
    "\n",
    "first_msg = msg[0:14:2]\n",
    "print(first_msg)\n"
   ]
  },
  {
   "cell_type": "code",
   "execution_count": 18,
   "id": "4482c372-b064-4471-a800-08c3355aa1d8",
   "metadata": {},
   "outputs": [
    {
     "name": "stdout",
     "output_type": "stream",
     "text": [
      "\n",
      "!ereht olleh \n"
     ]
    }
   ],
   "source": [
    "first_msg = msg[13::-1]  #full string inrverse order\n",
    "print(first_msg)"
   ]
  },
  {
   "cell_type": "markdown",
   "id": "7b02dd0f-2c39-4050-92f2-4a357da85f93",
   "metadata": {},
   "source": [
    "# String Methods\n"
   ]
  },
  {
   "cell_type": "code",
   "execution_count": 33,
   "id": "ee35f81c-39c0-4e26-aea1-88356f65ab24",
   "metadata": {
    "scrolled": true
   },
   "outputs": [
    {
     "name": "stdout",
     "output_type": "stream",
     "text": [
      "Welcome to my code,code\n",
      "23\n",
      "True\n",
      "11\n",
      "8\n"
     ]
    }
   ],
   "source": [
    "string = \"Welcome to My Code,code\"\n",
    "\n",
    "processed_str = string.lower()\n",
    "\n",
    "first_capital = string.capitalize()  #only the first letter will be capitalzed\n",
    "print(first_capital)\n",
    "\n",
    "#length\n",
    "print(len(string))\n",
    "\n",
    "#finding something in code\n",
    "print(\"code\" in processed_str)\n",
    "\n",
    "# finding substring's starting index  (first er diker)\n",
    "index = processed_str.find(\"my\")\n",
    "print(index)\n",
    "\n",
    "# finding substring's starting index  (last er diker)\n",
    "index = processed_str.rfind(\"to\")\n",
    "print(index)"
   ]
  },
  {
   "cell_type": "code",
   "execution_count": 37,
   "id": "a6f7b74b-6747-4246-a66a-495a7213b1ac",
   "metadata": {},
   "outputs": [
    {
     "name": "stdout",
     "output_type": "stream",
     "text": [
      "2\n",
      "Welcome to My AI/ML code,code\n"
     ]
    }
   ],
   "source": [
    "# to find substring koto bar ache\n",
    "count = processed_str.count(\"code\")\n",
    "print(count)\n",
    "\n",
    "# replace a substring\n",
    "n_str=string.replace(\"Code\",\"AI/ML code\")\n",
    "print(n_str)"
   ]
  },
  {
   "cell_type": "code",
   "execution_count": null,
   "id": "d6f6929e-9ad4-414e-8fb6-e017827838a4",
   "metadata": {},
   "outputs": [],
   "source": []
  }
 ],
 "metadata": {
  "kernelspec": {
   "display_name": "Python 3 (ipykernel)",
   "language": "python",
   "name": "python3"
  },
  "language_info": {
   "codemirror_mode": {
    "name": "ipython",
    "version": 3
   },
   "file_extension": ".py",
   "mimetype": "text/x-python",
   "name": "python",
   "nbconvert_exporter": "python",
   "pygments_lexer": "ipython3",
   "version": "3.13.0b4"
  }
 },
 "nbformat": 4,
 "nbformat_minor": 5
}
