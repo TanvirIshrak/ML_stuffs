{
 "cells": [
  {
   "cell_type": "markdown",
   "id": "c59a0ab7-e237-4399-bd1a-64676d386643",
   "metadata": {},
   "source": [
    "# Iterator"
   ]
  },
  {
   "cell_type": "code",
   "execution_count": 6,
   "id": "f4c78d18-1b11-418f-b0ec-7a6edd4ca328",
   "metadata": {},
   "outputs": [
    {
     "name": "stdout",
     "output_type": "stream",
     "text": [
      "1\n",
      "2\n",
      "3\n",
      "4\n",
      "\n",
      "\n",
      "1\n",
      "2\n",
      "3\n",
      "4\n",
      "5\n"
     ]
    }
   ],
   "source": [
    "# unordered\n",
    "\n",
    "s ={1,2,3,4,5}\n",
    "\n",
    "s_iter = iter(s)\n",
    "print(next(s_iter))\n",
    "print(next(s_iter))\n",
    "print(next(s_iter))\n",
    "print(next(s_iter))\n",
    "print(\"\\n\")\n",
    "# for i in s:\n",
    "#     print(i)"
   ]
  },
  {
   "cell_type": "markdown",
   "id": "b45bf80e-934a-4299-b1a7-c62d64c701a1",
   "metadata": {},
   "source": [
    "# Generator"
   ]
  },
  {
   "cell_type": "code",
   "execution_count": 15,
   "id": "45c956f0-43a7-48ab-8890-d9a6b280348b",
   "metadata": {},
   "outputs": [
    {
     "name": "stdout",
     "output_type": "stream",
     "text": [
      "<class 'generator'>\n",
      "<generator object data_loader at 0x000001D84A585300>\n",
      "[0, 1, 2, 3, 4]\n",
      "[5, 6, 7, 8, 9]\n"
     ]
    }
   ],
   "source": [
    "lst = [x for x in range(501)]  #dataset\n",
    "def data_loader(chunk_size,lst):\n",
    "    for i in range(0 , len(lst) , chunk_size):\n",
    "        yield lst[i:i+chunk_size]   #[start : end]\n",
    "\n",
    "x = data_loader(5,lst)\n",
    "print(type(x))\n",
    "print(x)\n",
    "print(next(x))\n",
    "print(next(x))"
   ]
  },
  {
   "cell_type": "code",
   "execution_count": null,
   "id": "7f58c9ca-be3b-4f1d-82d8-f8a438917f30",
   "metadata": {},
   "outputs": [],
   "source": []
  }
 ],
 "metadata": {
  "kernelspec": {
   "display_name": "Python 3 (ipykernel)",
   "language": "python",
   "name": "python3"
  },
  "language_info": {
   "codemirror_mode": {
    "name": "ipython",
    "version": 3
   },
   "file_extension": ".py",
   "mimetype": "text/x-python",
   "name": "python",
   "nbconvert_exporter": "python",
   "pygments_lexer": "ipython3",
   "version": "3.13.0b4"
  }
 },
 "nbformat": 4,
 "nbformat_minor": 5
}
