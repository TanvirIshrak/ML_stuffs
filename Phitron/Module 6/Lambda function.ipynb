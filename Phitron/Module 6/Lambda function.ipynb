{
 "cells": [
  {
   "cell_type": "markdown",
   "id": "965b1bdf-d2f0-430b-96c2-36d952dc6fb2",
   "metadata": {},
   "source": [
    "# Lambda Function"
   ]
  },
  {
   "cell_type": "code",
   "execution_count": 2,
   "id": "d65468fe-eb6d-4b31-9974-692bbc0abca8",
   "metadata": {},
   "outputs": [],
   "source": [
    "# special function\n",
    "# anonymous\n",
    "# function to use just one's\n",
    "# in line function\n",
    "\n",
    "# lambda  parameter : expression\n",
    "        #     |                |\n",
    "        # (one or more)     one logic only\n"
   ]
  },
  {
   "cell_type": "code",
   "execution_count": 3,
   "id": "39710da5-fb11-49ae-871e-67110eea6724",
   "metadata": {},
   "outputs": [
    {
     "name": "stdout",
     "output_type": "stream",
     "text": [
      "13\n"
     ]
    }
   ],
   "source": [
    "# def sqr_add(x,y):\n",
    "#     # return x**2\n",
    "#     return x**2 + y**2\n",
    "\n",
    "sqr_add = lambda x,y : x**2 + y**2\n",
    "print(sqr_add(2,3))"
   ]
  },
  {
   "cell_type": "code",
   "execution_count": null,
   "id": "b5207e7a-f7c8-4ddd-8c00-bf3bdd57e532",
   "metadata": {},
   "outputs": [],
   "source": []
  }
 ],
 "metadata": {
  "kernelspec": {
   "display_name": "Python 3 (ipykernel)",
   "language": "python",
   "name": "python3"
  },
  "language_info": {
   "codemirror_mode": {
    "name": "ipython",
    "version": 3
   },
   "file_extension": ".py",
   "mimetype": "text/x-python",
   "name": "python",
   "nbconvert_exporter": "python",
   "pygments_lexer": "ipython3",
   "version": "3.13.0b4"
  }
 },
 "nbformat": 4,
 "nbformat_minor": 5
}
