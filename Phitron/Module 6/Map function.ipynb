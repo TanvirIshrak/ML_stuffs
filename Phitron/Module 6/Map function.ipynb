{
 "cells": [
  {
   "cell_type": "markdown",
   "id": "9a269b53-89f2-4c7d-ba61-8a20aeeda3ce",
   "metadata": {},
   "source": [
    "# Map"
   ]
  },
  {
   "cell_type": "code",
   "execution_count": 2,
   "id": "86fa21fe-a882-455c-a438-45820946ee59",
   "metadata": {},
   "outputs": [
    {
     "name": "stdout",
     "output_type": "stream",
     "text": [
      "[1, 4, 9, 16, 25, 36, 49]\n"
     ]
    }
   ],
   "source": [
    "# applies a dedicated function to each value\n",
    "lst = [1,2,3,4,5,6,7]\n",
    "def square(x):\n",
    "    return x**2\n",
    "lst = list(map(square,lst))   # map( do : on what)\n",
    "print(lst)"
   ]
  },
  {
   "cell_type": "code",
   "execution_count": 10,
   "id": "b2badd27-769a-4649-8ac5-bd8c2f812b9c",
   "metadata": {},
   "outputs": [
    {
     "name": "stdout",
     "output_type": "stream",
     "text": [
      "['H', 'E', 'L', 'L', 'O', ' ', 'W', 'O', 'R', 'L', 'D', ',', ' ', 'W', 'E', 'L', 'C', 'O', 'M', 'E', ' ', 'T', 'O', ' ', 'T', 'H', 'E', ' ', 'A', 'G', 'E', ' ', 'O', 'F', ' ', 'A', 'I']\n",
      "HELLO WORLD, WELCOME TO THE AGE OF AI\n"
     ]
    }
   ],
   "source": [
    "# string\n",
    "string = \"hello world, welcome to the age of AI\"\n",
    "string1 = list(map(str.upper , string))\n",
    "print(string1)\n",
    "string2 = \"\".join(string1)\n",
    "print(string2)"
   ]
  },
  {
   "cell_type": "code",
   "execution_count": 13,
   "id": "18b1e057-d15b-4c21-8af3-2a88ee84ae48",
   "metadata": {},
   "outputs": [
    {
     "name": "stdout",
     "output_type": "stream",
     "text": [
      "[1, 4, 3, 16, 5, 36, 7]\n"
     ]
    }
   ],
   "source": [
    "# map with lambda function\n",
    "lst = [1,2,3,4,5,6,7]\n",
    "\n",
    "lst = list(map(lambda x : x**2 if x%2==0 else x,lst))   # map( do : on what)\n",
    "print(lst)"
   ]
  },
  {
   "cell_type": "code",
   "execution_count": null,
   "id": "c698772c-5fb7-4d57-accc-9f005c11a700",
   "metadata": {},
   "outputs": [],
   "source": []
  }
 ],
 "metadata": {
  "kernelspec": {
   "display_name": "Python 3 (ipykernel)",
   "language": "python",
   "name": "python3"
  },
  "language_info": {
   "codemirror_mode": {
    "name": "ipython",
    "version": 3
   },
   "file_extension": ".py",
   "mimetype": "text/x-python",
   "name": "python",
   "nbconvert_exporter": "python",
   "pygments_lexer": "ipython3",
   "version": "3.13.0b4"
  }
 },
 "nbformat": 4,
 "nbformat_minor": 5
}
