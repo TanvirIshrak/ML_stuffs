{
 "cells": [
  {
   "cell_type": "markdown",
   "id": "06ec08df-4a1d-4ffd-8024-5f2349628992",
   "metadata": {},
   "source": [
    "# Function"
   ]
  },
  {
   "cell_type": "code",
   "execution_count": 2,
   "id": "ed9f7710-93ed-4cd3-9acb-055c20d9753a",
   "metadata": {},
   "outputs": [
    {
     "name": "stdout",
     "output_type": "stream",
     "text": [
      "hello\n"
     ]
    }
   ],
   "source": [
    "def greet():\n",
    "    print(\"hello\")\n",
    "greet()"
   ]
  },
  {
   "cell_type": "code",
   "execution_count": 3,
   "id": "6d8684db-649a-4d22-9c53-c0ad224973ab",
   "metadata": {},
   "outputs": [
    {
     "name": "stdout",
     "output_type": "stream",
     "text": [
      "hello Ishrak\n"
     ]
    }
   ],
   "source": [
    "def greet(user):\n",
    "    print(\"hello \" + user)\n",
    "greet(\"Ishrak\")   # argument passing"
   ]
  },
  {
   "cell_type": "code",
   "execution_count": 7,
   "id": "137153ca-f858-47d1-b946-c4f929c89769",
   "metadata": {},
   "outputs": [
    {
     "name": "stdout",
     "output_type": "stream",
     "text": [
      "hello guest\n"
     ]
    }
   ],
   "source": [
    "def greet(user = \"guest\"):  #has a default argument\n",
    "    print(\"hello \" + user)\n",
    "greet()\n",
    "# greet(\"Ishrak\")   # argument passing"
   ]
  },
  {
   "cell_type": "code",
   "execution_count": 9,
   "id": "e7b7a07d-edc8-4ef5-b844-9d0592c77735",
   "metadata": {},
   "outputs": [
    {
     "name": "stdout",
     "output_type": "stream",
     "text": [
      "10 20 30\n",
      "540\n",
      "30 10 20\n",
      "1030\n"
     ]
    }
   ],
   "source": [
    "\n",
    "def sqr_sum(a,b,c):\n",
    "    print(f\"{a} {b} {c}\")\n",
    "    a=a**2\n",
    "    b=b**2\n",
    "    return a+b+c\n",
    "# positional argument\n",
    "ans = sqr_sum(10,20,30) + 10\n",
    "print(ans)\n",
    "\n",
    "# keyward arguments\n",
    "ans = sqr_sum(b=10,c=20,a=30) + 10\n",
    "print(ans)"
   ]
  },
  {
   "cell_type": "code",
   "execution_count": 16,
   "id": "8c133921-9b4d-40e6-9862-336b33152122",
   "metadata": {},
   "outputs": [
    {
     "name": "stdout",
     "output_type": "stream",
     "text": [
      "(10, 20, 30, 40, 50, 60)\n",
      "210\n"
     ]
    }
   ],
   "source": [
    "# variable sized arguments\n",
    "# no matter how much arguments you give\n",
    "def sqr_sum(*args):   # it takes argument as tuple \n",
    "    print(args)\n",
    "    summation=0\n",
    "    for i in args:\n",
    "        summation+=i\n",
    "    return summation\n",
    "# positional argument\n",
    "ans=sqr_sum(10,20,30,40,50,60)\n",
    "print(ans)"
   ]
  },
  {
   "cell_type": "code",
   "execution_count": 19,
   "id": "d67d6c2e-ec02-4cf9-8495-0e5cc742ffb4",
   "metadata": {},
   "outputs": [
    {
     "name": "stdout",
     "output_type": "stream",
     "text": [
      "name : ishrak\n",
      "cls : 11\n",
      "roll : 9\n"
     ]
    }
   ],
   "source": [
    "# keywargs arguments\n",
    "# this takes arguments as dictionary\n",
    "def stu(**kwargs):\n",
    "    # print(kwargs)\n",
    "    for key,val in kwargs.items():\n",
    "        print(f\"{key} : {val}\")\n",
    "\n",
    "stu(name=\"ishrak\",cls=11,roll=9)"
   ]
  },
  {
   "cell_type": "markdown",
   "id": "132dabae-7d2b-4919-ad03-102cb914cb2c",
   "metadata": {},
   "source": [
    "# Function Return Types"
   ]
  },
  {
   "cell_type": "code",
   "execution_count": 20,
   "id": "117c594a-2ca0-4ac2-baf1-396146664600",
   "metadata": {},
   "outputs": [
    {
     "data": {
      "text/plain": [
       "int"
      ]
     },
     "execution_count": 20,
     "metadata": {},
     "output_type": "execute_result"
    }
   ],
   "source": [
    "def give_predict():\n",
    "    return 10\n",
    "\n",
    "type(give_predict())"
   ]
  },
  {
   "cell_type": "code",
   "execution_count": 24,
   "id": "08c1cb3f-83c7-4ec7-8eb5-ba7f5249e1c8",
   "metadata": {},
   "outputs": [
    {
     "name": "stdout",
     "output_type": "stream",
     "text": [
      "(10, 20)\n",
      "10 20\n"
     ]
    }
   ],
   "source": [
    "# unpacking\n",
    "def give_predict():\n",
    "    return 10,20\n",
    "\n",
    "print(give_predict())   # packed\n",
    "\n",
    "x,y = give_predict()\n",
    "print(x,y)  # unpacked"
   ]
  },
  {
   "cell_type": "code",
   "execution_count": null,
   "id": "d41aacd5-1e70-49a7-9e2f-fb78e8e7449f",
   "metadata": {},
   "outputs": [],
   "source": []
  }
 ],
 "metadata": {
  "kernelspec": {
   "display_name": "Python 3 (ipykernel)",
   "language": "python",
   "name": "python3"
  },
  "language_info": {
   "codemirror_mode": {
    "name": "ipython",
    "version": 3
   },
   "file_extension": ".py",
   "mimetype": "text/x-python",
   "name": "python",
   "nbconvert_exporter": "python",
   "pygments_lexer": "ipython3",
   "version": "3.13.0b4"
  }
 },
 "nbformat": 4,
 "nbformat_minor": 5
}
