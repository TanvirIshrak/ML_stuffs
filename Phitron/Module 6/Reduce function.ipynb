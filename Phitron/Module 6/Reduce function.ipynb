{
 "cells": [
  {
   "cell_type": "markdown",
   "id": "bdf78276-7514-4349-9379-de96adff4c9a",
   "metadata": {},
   "source": [
    "# Reduce"
   ]
  },
  {
   "cell_type": "code",
   "execution_count": 1,
   "id": "3f9a095f-19d9-41f8-8de0-e7c82045db6a",
   "metadata": {},
   "outputs": [],
   "source": [
    "# provides value from a iterable on basis of a logic\n",
    "# one based result\n",
    "from functools import reduce\n"
   ]
  },
  {
   "cell_type": "code",
   "execution_count": 5,
   "id": "fcfbef8d-fe0f-4615-aef8-339216c5b4e5",
   "metadata": {},
   "outputs": [
    {
     "name": "stdout",
     "output_type": "stream",
     "text": [
      "28\n",
      "28\n"
     ]
    }
   ],
   "source": [
    "lst = [1,2,3,4,5,6,7]\n",
    "print(sum(lst))\n",
    "summmation = reduce(lambda x,y:x+y,lst)\n",
    "print(summmation)"
   ]
  },
  {
   "cell_type": "code",
   "execution_count": 7,
   "id": "7d737f02-9864-4de5-be66-89e46aa1d5d2",
   "metadata": {},
   "outputs": [
    {
     "name": "stdout",
     "output_type": "stream",
     "text": [
      "7\n"
     ]
    }
   ],
   "source": [
    "max_val = reduce(lambda x ,y: x>y , lst) #returns true false val\n",
    "max_val = reduce(lambda x ,y:x if  x>y else y , lst) #returns true false val\n",
    "print(max_val)"
   ]
  },
  {
   "cell_type": "code",
   "execution_count": 8,
   "id": "15bab3f2-b674-483f-9b8c-ddb6db51a089",
   "metadata": {},
   "outputs": [
    {
     "name": "stdout",
     "output_type": "stream",
     "text": [
      "5\n"
     ]
    }
   ],
   "source": []
  },
  {
   "cell_type": "code",
   "execution_count": null,
   "id": "c83167fa-c401-4afb-9344-aa708415565f",
   "metadata": {},
   "outputs": [],
   "source": []
  }
 ],
 "metadata": {
  "kernelspec": {
   "display_name": "Python 3 (ipykernel)",
   "language": "python",
   "name": "python3"
  },
  "language_info": {
   "codemirror_mode": {
    "name": "ipython",
    "version": 3
   },
   "file_extension": ".py",
   "mimetype": "text/x-python",
   "name": "python",
   "nbconvert_exporter": "python",
   "pygments_lexer": "ipython3",
   "version": "3.13.0b4"
  }
 },
 "nbformat": 4,
 "nbformat_minor": 5
}
