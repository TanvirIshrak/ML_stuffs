{
 "cells": [
  {
   "cell_type": "markdown",
   "id": "dd01ea5d-65d7-4617-b1a5-f87bfcc5b0ca",
   "metadata": {},
   "source": [
    " # Tuples\n"
   ]
  },
  {
   "cell_type": "code",
   "execution_count": 12,
   "id": "2badcdb6-71e5-4876-8187-8d3344dfdbfd",
   "metadata": {},
   "outputs": [
    {
     "name": "stdout",
     "output_type": "stream",
     "text": [
      "<class 'tuple'>\n",
      "(10, 23.4, 'ishrak', True)\n",
      "<class 'tuple'> (10,)\n",
      "<class 'tuple'>\n"
     ]
    }
   ],
   "source": [
    "# Declearation\n",
    "\n",
    "tup = (10,20,30)\n",
    "print(type(tup))\n",
    "\n",
    "mix_tup=(10, 23.4 , \"ishrak\", True)\n",
    "print(mix_tup)\n",
    "\n",
    "tup1=(10,)   #to make it as tuppe it must has to add a comma otherwise it will be integer type data\n",
    "print(type(tup1),tup1)\n",
    "\n",
    "#list to tuple\n",
    "tup2 = tuple([10])\n",
    "print(type(tup2))"
   ]
  },
  {
   "cell_type": "code",
   "execution_count": 15,
   "id": "299dec04-a56e-4767-b411-087926ca7e61",
   "metadata": {},
   "outputs": [
    {
     "name": "stdout",
     "output_type": "stream",
     "text": [
      "20\n",
      "(10, 23.4, 'ishrak')\n"
     ]
    }
   ],
   "source": [
    "# access\n",
    "\n",
    "#index\n",
    "print(tup[1])\n",
    "\n",
    "#slicing\n",
    "new_tup = mix_tup[0:3]\n",
    "print(new_tup)"
   ]
  },
  {
   "cell_type": "code",
   "execution_count": 18,
   "id": "987e7953-0f72-4bd1-abb9-99f9499e8431",
   "metadata": {},
   "outputs": [
    {
     "name": "stdout",
     "output_type": "stream",
     "text": [
      "[1, 100, 3, 4, 5, 10]\n"
     ]
    },
    {
     "ename": "TypeError",
     "evalue": "'tuple' object does not support item assignment",
     "output_type": "error",
     "traceback": [
      "\u001b[31m---------------------------------------------------------------------------\u001b[39m",
      "\u001b[31mTypeError\u001b[39m                                 Traceback (most recent call last)",
      "\u001b[36mCell\u001b[39m\u001b[36m \u001b[39m\u001b[32mIn[18]\u001b[39m\u001b[32m, line 8\u001b[39m\n\u001b[32m      5\u001b[39m list1[\u001b[32m1\u001b[39m]=\u001b[32m100\u001b[39m\n\u001b[32m      6\u001b[39m \u001b[38;5;28mprint\u001b[39m(list1)\n\u001b[32m----> \u001b[39m\u001b[32m8\u001b[39m \u001b[43mtup\u001b[49m\u001b[43m[\u001b[49m\u001b[32;43m1\u001b[39;49m\u001b[43m]\u001b[49m = \u001b[32m100\u001b[39m\n\u001b[32m      9\u001b[39m \u001b[38;5;28mprint\u001b[39m(tup)\n",
      "\u001b[31mTypeError\u001b[39m: 'tuple' object does not support item assignment"
     ]
    }
   ],
   "source": [
    "# mutable\n",
    "\n",
    "list1 = [1,2,3,4,5]\n",
    "list1.append(10)\n",
    "list1[1]=100\n",
    "print(list1)\n",
    "\n",
    "# immutable\n",
    "tup[1] = 100\n",
    "# print(tup)  this will not run"
   ]
  },
  {
   "cell_type": "code",
   "execution_count": 23,
   "id": "72365bd3-886f-43be-90bd-ff185fa52af9",
   "metadata": {},
   "outputs": [
    {
     "name": "stdout",
     "output_type": "stream",
     "text": [
      "3\n",
      "5\n"
     ]
    }
   ],
   "source": [
    "# tuple methods\n",
    "tup3 = (10,20,30,40,20,60,20)\n",
    "print(tup3.count(20))\n",
    "print(tup3.index(60))"
   ]
  },
  {
   "cell_type": "code",
   "execution_count": null,
   "id": "acf931b6-f780-4049-a773-a2582614b324",
   "metadata": {},
   "outputs": [],
   "source": []
  }
 ],
 "metadata": {
  "kernelspec": {
   "display_name": "Python 3 (ipykernel)",
   "language": "python",
   "name": "python3"
  },
  "language_info": {
   "codemirror_mode": {
    "name": "ipython",
    "version": 3
   },
   "file_extension": ".py",
   "mimetype": "text/x-python",
   "name": "python",
   "nbconvert_exporter": "python",
   "pygments_lexer": "ipython3",
   "version": "3.13.0b4"
  }
 },
 "nbformat": 4,
 "nbformat_minor": 5
}
