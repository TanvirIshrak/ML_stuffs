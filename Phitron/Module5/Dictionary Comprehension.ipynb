{
 "cells": [
  {
   "cell_type": "markdown",
   "id": "876d5baf-5507-4f8c-84cd-a86582574c0f",
   "metadata": {},
   "source": [
    "# Dictionary Comprehension"
   ]
  },
  {
   "cell_type": "code",
   "execution_count": null,
   "id": "d33258b8-addd-464c-8424-8e2b8a2b6aeb",
   "metadata": {},
   "outputs": [],
   "source": [
    "# { expression  Iteration  condition}\n",
    "#   key:value"
   ]
  },
  {
   "cell_type": "code",
   "execution_count": 4,
   "id": "ad2042a9-0da8-416c-8fbb-c54ed2964564",
   "metadata": {},
   "outputs": [
    {
     "name": "stdout",
     "output_type": "stream",
     "text": [
      "{2: 4, 4: 16, 6: 36, 8: 64, 10: 100}\n"
     ]
    }
   ],
   "source": [
    "# print(list(range(1,11)))\n",
    "\n",
    "square = {x:x**2  for x in range(1,11)  if x%2==0}\n",
    "print(square)\n"
   ]
  },
  {
   "cell_type": "code",
   "execution_count": 5,
   "id": "d24e6c16-d2ca-4baf-b41b-c725c7479b9e",
   "metadata": {},
   "outputs": [
    {
     "name": "stdout",
     "output_type": "stream",
     "text": [
      "{(10, 10.5): 'dhaka', (20.5, 192): 'ctg', (101, 102): 'khulna'}\n"
     ]
    }
   ],
   "source": [
    "coordinate = [(10,10.5),(20.5,192),(101,102)]\n",
    "location = [\"dhaka\",\"ctg\",\"khulna\"]\n",
    "\n",
    "exact_loc = {co_or:loc for co_or,loc in zip(coordinate,location)}\n",
    "print(exact_loc)"
   ]
  },
  {
   "cell_type": "code",
   "execution_count": null,
   "id": "fb79b5a6-070b-4290-9046-30a1ed20da16",
   "metadata": {},
   "outputs": [],
   "source": []
  }
 ],
 "metadata": {
  "kernelspec": {
   "display_name": "Python 3 (ipykernel)",
   "language": "python",
   "name": "python3"
  },
  "language_info": {
   "codemirror_mode": {
    "name": "ipython",
    "version": 3
   },
   "file_extension": ".py",
   "mimetype": "text/x-python",
   "name": "python",
   "nbconvert_exporter": "python",
   "pygments_lexer": "ipython3",
   "version": "3.13.0b4"
  }
 },
 "nbformat": 4,
 "nbformat_minor": 5
}
