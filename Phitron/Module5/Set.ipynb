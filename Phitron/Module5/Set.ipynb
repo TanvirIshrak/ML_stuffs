{
 "cells": [
  {
   "cell_type": "markdown",
   "id": "ac9277f0-6517-4105-a456-15875d0c5310",
   "metadata": {},
   "source": [
    "# Set items\n"
   ]
  },
  {
   "cell_type": "code",
   "execution_count": 2,
   "id": "8af8c2c4-6b66-401f-ad3b-512a391dccff",
   "metadata": {},
   "outputs": [
    {
     "name": "stdout",
     "output_type": "stream",
     "text": [
      "<class 'set'> {1, 2, 3}\n"
     ]
    }
   ],
   "source": [
    "A = {1,2,3}\n",
    "print(type(A),A)"
   ]
  },
  {
   "cell_type": "code",
   "execution_count": 6,
   "id": "e0bcc98a-cef2-48d2-acf5-6ea0947a7f46",
   "metadata": {},
   "outputs": [
    {
     "name": "stdout",
     "output_type": "stream",
     "text": [
      "<class 'list'>\n",
      "<class 'tuple'>\n",
      "<class 'dict'>\n",
      "<class 'set'>\n"
     ]
    }
   ],
   "source": [
    "# Empty structures\n",
    "\n",
    "b = []\n",
    "print(type(b))\n",
    "\n",
    "c = ()\n",
    "print(type(c))\n",
    "\n",
    "d = {}\n",
    "print(type(d))\n",
    "\n",
    "e = set()\n",
    "print(type(e))"
   ]
  },
  {
   "cell_type": "code",
   "execution_count": 11,
   "id": "9d37c218-c4af-44d9-8bfe-82fc287ef474",
   "metadata": {},
   "outputs": [
    {
     "name": "stdout",
     "output_type": "stream",
     "text": [
      "yes\n",
      "67\n",
      "6\n",
      "23\n",
      "456\n",
      "123\n",
      "45\n",
      "sum is: 720\n"
     ]
    }
   ],
   "source": [
    "# access\n",
    "s = {23,45,123,456,67,23,6}\n",
    "if (456 in s):\n",
    "    print(\"yes\")\n",
    "else:\n",
    "    print(\"No\")\n",
    "\n",
    "sum = 0\n",
    "for elements in s:\n",
    "    print(elements)\n",
    "    sum+=elements\n",
    "print(f\"sum is: {sum}\")"
   ]
  },
  {
   "cell_type": "code",
   "execution_count": 34,
   "id": "5d4409d5-3f41-4163-8b7c-9e187ac95d3f",
   "metadata": {},
   "outputs": [
    {
     "name": "stdout",
     "output_type": "stream",
     "text": [
      "{1, 2, 3, 4, 5, 6, 7, 10}\n",
      "{1, 2, 3, 4, 5, 7, 10}\n",
      "{1, 2, 3, 4, 5, 33, 7, 10, 12, 754, 213}\n",
      "{1, 3, 5}\n",
      "False\n",
      "True\n"
     ]
    }
   ],
   "source": [
    "# Methods of set\n",
    "# Mutable\n",
    "a = {1,2,3,4,5,6,7}\n",
    "s={1,5,3,754,213,12,33}\n",
    "x = {1,3,4,7}\n",
    "a.add(10)\n",
    "print(a)\n",
    "\n",
    "# a.pop()  # deleting value from the first\n",
    "# print(a)  \n",
    "\n",
    "a.remove(6)\n",
    "print(a)\n",
    "\n",
    "\n",
    "print(a.union(s))\n",
    "print(a.intersection(s))\n",
    "print(a.isdisjoint(s))   #no intersec point can be there\n",
    "print(x.issubset(a))"
   ]
  },
  {
   "cell_type": "code",
   "execution_count": null,
   "id": "cadb9687-23db-4e00-bc1c-b7d7fb776da8",
   "metadata": {},
   "outputs": [],
   "source": []
  }
 ],
 "metadata": {
  "kernelspec": {
   "display_name": "Python 3 (ipykernel)",
   "language": "python",
   "name": "python3"
  },
  "language_info": {
   "codemirror_mode": {
    "name": "ipython",
    "version": 3
   },
   "file_extension": ".py",
   "mimetype": "text/x-python",
   "name": "python",
   "nbconvert_exporter": "python",
   "pygments_lexer": "ipython3",
   "version": "3.13.0b4"
  }
 },
 "nbformat": 4,
 "nbformat_minor": 5
}
