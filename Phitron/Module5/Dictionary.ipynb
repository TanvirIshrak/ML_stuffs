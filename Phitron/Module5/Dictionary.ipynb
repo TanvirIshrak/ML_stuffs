{
 "cells": [
  {
   "cell_type": "markdown",
   "id": "e37d6897-dc83-4f03-a24c-3bada117e0b2",
   "metadata": {},
   "source": [
    "# Dictionary\n"
   ]
  },
  {
   "cell_type": "code",
   "execution_count": 1,
   "id": "16dea70d-a842-45cb-ae4d-e88582598ca6",
   "metadata": {},
   "outputs": [],
   "source": [
    "# # mutable\n",
    "# # unordered\n",
    "# #  Key , value-------------------\n",
    "#     |                            |\n",
    "#     immutable                    |\n",
    "# (int, string, float,tuple)       |\n",
    "#                                  |\n",
    "#                             (string,list,set,int,dictionary)\n",
    "\n",
    "# can't keep same named key at the same dictionary"
   ]
  },
  {
   "cell_type": "code",
   "execution_count": 2,
   "id": "1a11656e-1e5a-462e-93c6-57029d54219e",
   "metadata": {},
   "outputs": [
    {
     "name": "stdout",
     "output_type": "stream",
     "text": [
      "<class 'dict'> {'name': 'Ishrak', 'age': 22, 'address': 'Barishal', 'num': [1, 2, 3, 4]}\n"
     ]
    }
   ],
   "source": [
    "dic = {\"name\":\"Ishrak\",\n",
    "       \"age\":22 , \n",
    "       \"address\":\"Barishal\",\n",
    "       \"num\":[1,2,3,4]}\n",
    "print(type(dic),dic)"
   ]
  },
  {
   "cell_type": "code",
   "execution_count": 4,
   "id": "b739100c-a880-42a1-83f0-4e3e6644e927",
   "metadata": {},
   "outputs": [
    {
     "name": "stdout",
     "output_type": "stream",
     "text": [
      "Barishal\n",
      "22\n"
     ]
    }
   ],
   "source": [
    "# access\n",
    "# dic_name[key]\n",
    "print(dic[\"address\"])\n",
    "print(dic.get(\"age\"))"
   ]
  },
  {
   "cell_type": "code",
   "execution_count": 10,
   "id": "3cf16dea-301a-46e3-9fbd-a3b03f5128ac",
   "metadata": {},
   "outputs": [
    {
     "name": "stdout",
     "output_type": "stream",
     "text": [
      "{'name': 'atlas', 'age': 22, 'address': 'Barishal', 'num': [1, 2, 3, 4], 'marks': 100}\n",
      "{'name': 'atlas', 'age': 22, 'address': 'Barishal', 'num': [1, 2, 3, 4], 'marks': 100}\n",
      "{'name': 'atlas', 'age': 22, 'address': 'Barishal', 'num': [1, 2, 3, 4], 'marks': 100, 'math': 12}\n",
      "Not there\n"
     ]
    }
   ],
   "source": [
    "# value assigning\n",
    "dic[\"name\"]=\"atlas\"\n",
    "print(dic)\n",
    "\n",
    "# adding new key which was not there\n",
    "dic[\"marks\"]=100\n",
    "print(dic)\n",
    "\n",
    "dic.update({\"math\":12})\n",
    "print(dic)\n",
    "\n",
    "#if the key is not there it will print none\n",
    "# but we can show something else instead of none as default value\n",
    "print(dic.get(\"array\",\"Not there\"))"
   ]
  },
  {
   "cell_type": "code",
   "execution_count": 11,
   "id": "d85bb2ac-1a73-42df-8ada-c4b0e519d4d2",
   "metadata": {},
   "outputs": [
    {
     "name": "stdout",
     "output_type": "stream",
     "text": [
      "{'name': 'atlas', 'age': 22, 'address': 'Barishal', 'num': [1, 2, 3, 4], 'math': 12}\n"
     ]
    }
   ],
   "source": [
    "# deleting any key value\n",
    "\n",
    "del dic[\"marks\"]\n",
    "print(dic)"
   ]
  },
  {
   "cell_type": "markdown",
   "id": "bae5d893-1ba8-4385-ad9f-936dee7a5442",
   "metadata": {},
   "source": [
    "# Dictionary View Methods"
   ]
  },
  {
   "cell_type": "code",
   "execution_count": 12,
   "id": "49a29ba6-77c8-45b6-9670-80cbf5814051",
   "metadata": {},
   "outputs": [],
   "source": [
    "# keys(), values(), items()\n",
    "# these are the view methods"
   ]
  },
  {
   "cell_type": "code",
   "execution_count": 15,
   "id": "c34da8a0-a742-47e4-8fea-e3e8b3566051",
   "metadata": {},
   "outputs": [
    {
     "name": "stdout",
     "output_type": "stream",
     "text": [
      "dict_keys(['name', 'age', 'address', 'num'])\n",
      "dict_values(['Ishrak', 22, 'Barishal', [1, 2, 3, 4]])\n",
      "dict_items([('name', 'Ishrak'), ('age', 22), ('address', 'Barishal'), ('num', [1, 2, 3, 4])])\n"
     ]
    }
   ],
   "source": [
    "dic = {\"name\":\"Ishrak\",\n",
    "       \"age\":22 , \n",
    "       \"address\":\"Barishal\",\n",
    "       \"num\":[1,2,3,4]}\n",
    "\n",
    "print(dic.keys())\n",
    "print(dic.values())\n",
    "\n",
    "#The items() method returns a view object. \n",
    "# The view object contains the key-value pairs of the dictionary,\n",
    "# as tuples in a list.\n",
    "print(dic.items())"
   ]
  },
  {
   "cell_type": "code",
   "execution_count": 20,
   "id": "3e40401c-acab-4d96-9897-1cf8a96965ff",
   "metadata": {},
   "outputs": [
    {
     "name": "stdout",
     "output_type": "stream",
     "text": [
      "name Ishrak\n",
      "age 22\n",
      "address Barishal\n",
      "num [1, 2, 3, 4]\n"
     ]
    }
   ],
   "source": [
    "# Iteration\n",
    "\n",
    "# this would show error of unable to unpack any dic\n",
    "# for key,value in dic:\n",
    "#     print(key,value)\n",
    "    \n",
    "for key,value in dic.items():\n",
    "    print(key,value)"
   ]
  },
  {
   "cell_type": "code",
   "execution_count": null,
   "id": "c1f614c1-1943-4e20-81aa-a8c33fb03369",
   "metadata": {},
   "outputs": [],
   "source": []
  }
 ],
 "metadata": {
  "kernelspec": {
   "display_name": "Python 3 (ipykernel)",
   "language": "python",
   "name": "python3"
  },
  "language_info": {
   "codemirror_mode": {
    "name": "ipython",
    "version": 3
   },
   "file_extension": ".py",
   "mimetype": "text/x-python",
   "name": "python",
   "nbconvert_exporter": "python",
   "pygments_lexer": "ipython3",
   "version": "3.13.0b4"
  }
 },
 "nbformat": 4,
 "nbformat_minor": 5
}
