{
 "cells": [
  {
   "cell_type": "markdown",
   "id": "37b4b2d0-b391-43bd-82d1-f24cbac65bdf",
   "metadata": {},
   "source": [
    "# Class objects and Inheritance\n"
   ]
  },
  {
   "cell_type": "code",
   "execution_count": 62,
   "id": "4f12be75-755b-419f-aee7-ef267369c587",
   "metadata": {},
   "outputs": [
    {
     "name": "stdout",
     "output_type": "stream",
     "text": [
      "<class '__main__.Phone'>\n",
      "master technology\n",
      "50\n",
      "photo captured in iPhone 15\n",
      "90\n",
      "100\n"
     ]
    }
   ],
   "source": [
    "# parent class\n",
    "class Phone:\n",
    "    category = \"Electronics\"\n",
    "\n",
    "    def __init__(self, model, battery, camera,battery_percent = 100):\n",
    "        self.model = model\n",
    "        self.battery = battery\n",
    "        self.camera = camera\n",
    "        self.battery_percent =battery_percent\n",
    "\n",
    "    # Methods\n",
    "    def charge(self,hour):\n",
    "        print(f\"charge campleted by {hour}\")\n",
    "\n",
    "    def capture(self,photo):\n",
    "        if(self.battery_percent)<=0:\n",
    "            print(\"No charge\")\n",
    "        else:\n",
    "            self.battery_percent -= photo\n",
    "            print(f\"photo captured in {self.model}\")\n",
    "                \n",
    "\n",
    "class Cooling_mechanism:\n",
    "    def __init__(self,cooling_method):\n",
    "        self.cooling_method = cooling_method\n",
    "\n",
    "    #method\n",
    "    def cooling_on(self):\n",
    "        print(f\"the system is bering cool by {self.cooling_method}\")\n",
    "    # def __str__(self):\n",
    "    #     return f\"Model: {self.model}, Battery: {self.battery}mAh, Camera: {self.camera}MP\"\n",
    "\n",
    "# creating an object\n",
    "apple = Phone(\"iPhone 15\", 4500, 48)\n",
    "apple.category = \"master technology\"  # changing the class value\n",
    "print(type(apple))\n",
    "print(apple.category) \n",
    "\n",
    "# instance object\n",
    "motorola = Phone(\"He\",3000,50)\n",
    "print(motorola.camera)\n",
    "\n",
    "apple.capture(10)\n",
    "print(apple.battery_percent)\n",
    "print(motorola.battery_percent)\n",
    "\n",
    "\n",
    "\n",
    "\n",
    "\n",
    "# # child class / derived class\n",
    "# class SmartPhone(Phone):\n",
    "#     def __init__(self, model, battery, camera, processor):\n",
    "#         super().__init__(model, battery, camera)\n",
    "#         self.processor = processor\n",
    "\n",
    "#     def charge(self,hour):\n",
    "#         print(\"Fast charging in process\")\n",
    "#         super().charge(hour)\n",
    "\n",
    "# pro = SmartPhone(\"X\",5000,100,\"Snapdragon\")\n",
    "# print(pro.model) \n",
    "# pro.charge(1)\n",
    "# print(\"\\n\")\n",
    "\n",
    "# class SmartPhone_coolingMood(SmartPhone,Cooling_mechanism):\n",
    "#     def __init__(self,model, battery, camera,processor,cooling_method):\n",
    "#         # callin multiple classes .. don't use super() here\n",
    "#         SmartPhone.__init__(self,model, battery, camera,processor)\n",
    "#         Cooling_mechanism.__init__(self,cooling_method)\n",
    "        \n",
    "# cool_phone = SmartPhone_coolingMood(\"Z\", 6000, 108, \"Dimensity\", \"Liquid Cooling\")\n",
    "# print(cool_phone.model)\n",
    "# cool_phone.cooling_on()"
   ]
  },
  {
   "cell_type": "markdown",
   "id": "e22d764f-d7ff-4880-b8a3-2c88c86488f4",
   "metadata": {},
   "source": [
    "# Inheritance"
   ]
  },
  {
   "cell_type": "code",
   "execution_count": 63,
   "id": "d9ef9329-a3ac-4314-9801-d25968130a6d",
   "metadata": {},
   "outputs": [
    {
     "name": "stdout",
     "output_type": "stream",
     "text": [
      "X\n",
      "Fast charging in process\n",
      "charge campleted by 1\n",
      "Z\n",
      "the system is bering cool by Liquid Cooling\n"
     ]
    }
   ],
   "source": [
    "# child class / derived class\n",
    "class SmartPhone(Phone):\n",
    "    def __init__(self, model, battery, camera, processor):\n",
    "        super().__init__(model, battery, camera)\n",
    "        self.processor = processor\n",
    "\n",
    "    def charge(self,hour):\n",
    "        print(\"Fast charging in process\")\n",
    "        super().charge(hour)\n",
    "\n",
    "pro = SmartPhone(\"X\",5000,100,\"Snapdragon\")\n",
    "print(pro.model) \n",
    "pro.charge(1)\n",
    "\n",
    "\n",
    "class SmartPhone_coolingMood(SmartPhone,Cooling_mechanism):\n",
    "    def __init__(self,model, battery, camera,processor,cooling_method):\n",
    "        # callin multiple classes .. don't use super() here\n",
    "        SmartPhone.__init__(self,model, battery, camera,processor)\n",
    "        Cooling_mechanism.__init__(self,cooling_method)\n",
    "        \n",
    "cool_phone = SmartPhone_coolingMood(\"Z\", 6000, 108, \"Dimensity\", \"Liquid Cooling\")\n",
    "print(cool_phone.model)\n",
    "cool_phone.cooling_on()"
   ]
  },
  {
   "cell_type": "code",
   "execution_count": null,
   "id": "feb01d2c-bd1a-4df1-b9f5-ac157004d643",
   "metadata": {},
   "outputs": [],
   "source": []
  }
 ],
 "metadata": {
  "kernelspec": {
   "display_name": "Python 3 (ipykernel)",
   "language": "python",
   "name": "python3"
  },
  "language_info": {
   "codemirror_mode": {
    "name": "ipython",
    "version": 3
   },
   "file_extension": ".py",
   "mimetype": "text/x-python",
   "name": "python",
   "nbconvert_exporter": "python",
   "pygments_lexer": "ipython3",
   "version": "3.12.10"
  }
 },
 "nbformat": 4,
 "nbformat_minor": 5
}
