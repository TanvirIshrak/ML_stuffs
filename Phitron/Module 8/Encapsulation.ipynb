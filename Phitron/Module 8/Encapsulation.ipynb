{
 "cells": [
  {
   "cell_type": "code",
   "execution_count": 7,
   "id": "269522ee-3219-41f7-8090-72c6648e7673",
   "metadata": {},
   "outputs": [
    {
     "name": "stdout",
     "output_type": "stream",
     "text": [
      "Phone\n",
      "13\n",
      "1xIdj33\n",
      "pie\n"
     ]
    }
   ],
   "source": [
    "class Mobile:\n",
    "    def __init__(self,name,model,imei):\n",
    "        self.name=name\n",
    "        self.model=model\n",
    "        self.__imei=imei  #private  (double underscore before name)\n",
    "    def charge(self):\n",
    "        print(\"phone is charging\")\n",
    "\n",
    "    # accessing the private data\n",
    "    def imei_getter(self):\n",
    "        return self.__imei\n",
    "        \n",
    "Iphone = Mobile(\"Phone\",\"13\",\"1xIdj33\")\n",
    "print(Iphone.name)\n",
    "print(Iphone.model)\n",
    "print(Iphone.imei_getter())\n",
    "\n",
    "Iphone.name=\"pie\"\n",
    "print(Iphone.name)\n",
    "    "
   ]
  },
  {
   "cell_type": "code",
   "execution_count": 8,
   "id": "099dbfed-bd3a-4b85-ae91-60e86a3654a9",
   "metadata": {},
   "outputs": [
    {
     "name": "stdout",
     "output_type": "stream",
     "text": [
      "ragi\n"
     ]
    }
   ],
   "source": [
    "class student:\n",
    "    def __init__(self,name):\n",
    "        self.name=name\n",
    "\n",
    "stu = student(\"ragi\")\n",
    "print(stu.name)"
   ]
  },
  {
   "cell_type": "code",
   "execution_count": null,
   "id": "5a57f6e1-e8ab-4089-ba11-488f4169e1d8",
   "metadata": {},
   "outputs": [],
   "source": []
  }
 ],
 "metadata": {
  "kernelspec": {
   "display_name": "Python 3 (ipykernel)",
   "language": "python",
   "name": "python3"
  },
  "language_info": {
   "codemirror_mode": {
    "name": "ipython",
    "version": 3
   },
   "file_extension": ".py",
   "mimetype": "text/x-python",
   "name": "python",
   "nbconvert_exporter": "python",
   "pygments_lexer": "ipython3",
   "version": "3.12.10"
  }
 },
 "nbformat": 4,
 "nbformat_minor": 5
}
