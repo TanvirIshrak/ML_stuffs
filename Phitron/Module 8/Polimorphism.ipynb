{
 "cells": [
  {
   "cell_type": "code",
   "execution_count": 2,
   "id": "dec281ff-cb46-4d30-b859-1e5b11a287a6",
   "metadata": {},
   "outputs": [
    {
     "name": "stdout",
     "output_type": "stream",
     "text": [
      "A photo is captured by smartphone\n",
      "A photo is captured by dslr\n",
      "A photo is captured by drone\n"
     ]
    }
   ],
   "source": [
    "class Camera:\n",
    "    def __init__(self,name):\n",
    "        self.name=name\n",
    "\n",
    "    def capture(self):\n",
    "        print(\"a photo is captured\")\n",
    "\n",
    "# inheriting camera class\n",
    "class Smart(Camera):\n",
    "    def __init__(self,name,resulation):\n",
    "        super().__init__(name)\n",
    "        self.resultion = resulation\n",
    "    #method overriding\n",
    "    def capture(self):\n",
    "        print(\"A photo is captured by smartphone\")\n",
    "        \n",
    "class DSLR(Camera):\n",
    "    def __init__(self,name,resulation):\n",
    "        super().__init__(name)\n",
    "        self.resultion = resulation\n",
    "    #method overriding\n",
    "    def capture(self):\n",
    "        print(\"A photo is captured by dslr\")\n",
    "        \n",
    "class Drone(Camera):\n",
    "    def __init__(self,name,resulation):\n",
    "        super().__init__(name)\n",
    "        self.resultion = resulation\n",
    "    #method overriding\n",
    "    def capture(self):\n",
    "        print(\"A photo is captured by drone\")\n",
    "\n",
    "phone = Smart(\"Phone\",30)\n",
    "dslr = DSLR(\"DSLR\",200)\n",
    "drone = Drone(\"Drone\",150)\n",
    "\n",
    "phone.capture()\n",
    "dslr.capture()\n",
    "drone.capture()"
   ]
  },
  {
   "cell_type": "code",
   "execution_count": null,
   "id": "9fd0cf76-45a6-459a-bca5-9047fc6db1f3",
   "metadata": {},
   "outputs": [],
   "source": []
  }
 ],
 "metadata": {
  "kernelspec": {
   "display_name": "Python 3 (ipykernel)",
   "language": "python",
   "name": "python3"
  },
  "language_info": {
   "codemirror_mode": {
    "name": "ipython",
    "version": 3
   },
   "file_extension": ".py",
   "mimetype": "text/x-python",
   "name": "python",
   "nbconvert_exporter": "python",
   "pygments_lexer": "ipython3",
   "version": "3.12.10"
  }
 },
 "nbformat": 4,
 "nbformat_minor": 5
}
