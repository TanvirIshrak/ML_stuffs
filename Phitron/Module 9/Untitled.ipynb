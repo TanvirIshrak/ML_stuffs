{
 "cells": [
  {
   "cell_type": "markdown",
   "id": "f505f105-9021-4118-9483-d82c198e6d35",
   "metadata": {},
   "source": [
    "## Question 1"
   ]
  },
  {
   "cell_type": "code",
   "execution_count": 10,
   "id": "a27b7114-9833-4b6a-8692-b03c7c745867",
   "metadata": {},
   "outputs": [
    {
     "name": "stdin",
     "output_type": "stream",
     "text": [
      " 5 6 7 8 9 10\n"
     ]
    },
    {
     "name": "stdout",
     "output_type": "stream",
     "text": [
      "[6, 8, 10]\n"
     ]
    }
   ],
   "source": [
    "n = input()\n",
    "lis = [int(x) for x in n.split()]\n",
    "print(list(filter(lambda x : x%2==0 ,lis)))\n"
   ]
  },
  {
   "cell_type": "markdown",
   "id": "6121507b-93cc-4ea3-a764-01ba2a13d8ac",
   "metadata": {},
   "source": [
    "## Question 2"
   ]
  },
  {
   "cell_type": "code",
   "execution_count": 17,
   "id": "cf5b34a9-da2b-44a5-a3f3-85b935c8bf93",
   "metadata": {},
   "outputs": [
    {
     "name": "stdin",
     "output_type": "stream",
     "text": [
      " 10 2\n"
     ]
    },
    {
     "name": "stdout",
     "output_type": "stream",
     "text": [
      "5.0\n"
     ]
    }
   ],
   "source": [
    "x,y=map(int,input().split())\n",
    "try:\n",
    "    a = x/y\n",
    "except ZeroDivisionError :\n",
    "    print(\"Divided by zero\")\n",
    "else:\n",
    "    print(a)"
   ]
  },
  {
   "cell_type": "markdown",
   "id": "5cb0b5e1-d441-4958-be73-5edd284a2678",
   "metadata": {},
   "source": [
    "## Question 3"
   ]
  },
  {
   "cell_type": "code",
   "execution_count": 23,
   "id": "8896eedf-ef80-4e07-b9d9-3a1e2e6ae2e3",
   "metadata": {},
   "outputs": [
    {
     "name": "stdin",
     "output_type": "stream",
     "text": [
      " Circle 7\n"
     ]
    },
    {
     "name": "stdout",
     "output_type": "stream",
     "text": [
      "Area: 153.94\n"
     ]
    }
   ],
   "source": [
    "import math\n",
    "class Shape:\n",
    "    def area(self):\n",
    "        return 0\n",
    "\n",
    "class Rectangle(Shape):\n",
    "    def __init__(self,w,h):\n",
    "        self.w=w\n",
    "        self.h=h\n",
    "    def area(self):\n",
    "        return self.w*self.h\n",
    "\n",
    "class Circle(Shape):\n",
    "    def __init__(self,r):\n",
    "        self.r=r\n",
    "    def area(self):\n",
    "        return math.pi *(self.r**2)\n",
    "data = input().split()\n",
    "shapeT = data[0]\n",
    "if shapeT.lower() == \"rectangle\":\n",
    "    w = float(data[1])\n",
    "    h = float(data[2])\n",
    "    shape = Rectangle(w,h)\n",
    "elif shapeT.lower() == \"circle\":\n",
    "    r = float(data[1])\n",
    "    shape = Circle(r)\n",
    "else:\n",
    "    shape = Shape()\n",
    "\n",
    "print(f\"Area: {shape.area():.2f}\")"
   ]
  },
  {
   "cell_type": "markdown",
   "id": "055ce643-b497-4a3b-af16-9e76672c19e7",
   "metadata": {},
   "source": [
    "## Question 4"
   ]
  },
  {
   "cell_type": "code",
   "execution_count": 24,
   "id": "1c6eb3bd-85ec-4414-913f-8d4a37172ed2",
   "metadata": {},
   "outputs": [
    {
     "name": "stdin",
     "output_type": "stream",
     "text": [
      " Python programming is enjoyable\n"
     ]
    },
    {
     "name": "stdout",
     "output_type": "stream",
     "text": [
      "programming\n"
     ]
    }
   ],
   "source": [
    "sen = input().split()\n",
    "long = sen[0]\n",
    "for word in sen:\n",
    "    if len(word) > len(long):\n",
    "        long = word\n",
    "print(long)"
   ]
  },
  {
   "cell_type": "markdown",
   "id": "af972330-65ff-422c-9189-073f0cc185dd",
   "metadata": {},
   "source": [
    "## Question 5"
   ]
  },
  {
   "cell_type": "code",
   "execution_count": 26,
   "id": "13ed3104-d33a-487c-ac83-8e7e5968fb2a",
   "metadata": {},
   "outputs": [
    {
     "name": "stdin",
     "output_type": "stream",
     "text": [
      " 124\n"
     ]
    },
    {
     "name": "stdout",
     "output_type": "stream",
     "text": [
      "Not Strong Number\n"
     ]
    }
   ],
   "source": [
    "import math\n",
    "num = int(input())\n",
    "temp = num\n",
    "sum_fact = 0\n",
    "while temp > 0:\n",
    "    digit = temp % 10\n",
    "    sum_fact += math.factorial(digit)\n",
    "    temp //= 10\n",
    "\n",
    "if sum_fact == num:\n",
    "    print(\"Strong Number\")\n",
    "else:\n",
    "    print(\"Not Strong Number\")\n"
   ]
  },
  {
   "cell_type": "code",
   "execution_count": null,
   "id": "4cdd9742-8e76-4757-969c-074ce05ad282",
   "metadata": {},
   "outputs": [],
   "source": []
  }
 ],
 "metadata": {
  "kernelspec": {
   "display_name": "Python 3 (ipykernel)",
   "language": "python",
   "name": "python3"
  },
  "language_info": {
   "codemirror_mode": {
    "name": "ipython",
    "version": 3
   },
   "file_extension": ".py",
   "mimetype": "text/x-python",
   "name": "python",
   "nbconvert_exporter": "python",
   "pygments_lexer": "ipython3",
   "version": "3.12.10"
  }
 },
 "nbformat": 4,
 "nbformat_minor": 5
}
