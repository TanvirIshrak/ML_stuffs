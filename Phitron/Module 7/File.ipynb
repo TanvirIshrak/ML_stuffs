{
 "cells": [
  {
   "cell_type": "markdown",
   "id": "f562a4f4-236a-4b6b-8a86-a816188af404",
   "metadata": {},
   "source": [
    "### File read "
   ]
  },
  {
   "cell_type": "code",
   "execution_count": 6,
   "id": "ae56635f-145d-4f3e-b918-62f7cb13d9c6",
   "metadata": {},
   "outputs": [
    {
     "name": "stdout",
     "output_type": "stream",
     "text": [
      "hello\n",
      "this this a sample file\n",
      "\n",
      "True\n"
     ]
    }
   ],
   "source": [
    "file = open(\"D:\\\\DS\\\\Phitron\\\\Module 7\\\\sample.txt\",\"r\")\n",
    "content = file.read()\n",
    "print(content)\n",
    "file.close()\n",
    "print(file.closed)   # it's must to do"
   ]
  },
  {
   "cell_type": "code",
   "execution_count": 23,
   "id": "77834fab-1940-4445-a5ab-38e9b1824efd",
   "metadata": {},
   "outputs": [
    {
     "name": "stdout",
     "output_type": "stream",
     "text": [
      "['Hieee, test file\\n', 'bondhuraa new file banai fellammmmlearning is going fast\\n', 'and appended something\\n', 'learning is going fast\\n', 'and appended something']\n",
      "['Hieee, test file', 'bondhuraa new file banai fellammmmlearning is going fast', 'and appended something', 'learning is going fast', 'and appended something']\n"
     ]
    }
   ],
   "source": [
    "file = open(\"D:\\\\DS\\\\Phitron\\\\Module 7\\\\sample.txt\",\"r\")\n",
    "content = file.readlines()   # this will creats a list based on \\n\n",
    "print(content)\n",
    "content = list(map(str.strip,content))  # it simply removes \\n from the last of every string\n",
    "print(content)"
   ]
  },
  {
   "cell_type": "code",
   "execution_count": 7,
   "id": "5bdc3f9f-d129-4c6f-b61b-ce814e4474ba",
   "metadata": {},
   "outputs": [
    {
     "name": "stdout",
     "output_type": "stream",
     "text": [
      "['hello\\n', 'this this a sample file\\n']\n",
      "True\n"
     ]
    }
   ],
   "source": [
    " # \"with\" keyword\n",
    " # with this file not needed to close manually\n",
    "# the function will close it automaticlly\n",
    "\n",
    "with open(\"D:\\\\DS\\\\Phitron\\\\Module 7\\\\sample.txt\",\"r\") as file:\n",
    "    content = file.readlines()\n",
    "    print(content)\n",
    "\n",
    "print(file.closed)"
   ]
  },
  {
   "cell_type": "code",
   "execution_count": 13,
   "id": "8cc262ae-6e3d-4dc6-9591-d541ed9ece9b",
   "metadata": {},
   "outputs": [
    {
     "name": "stdout",
     "output_type": "stream",
     "text": [
      "hello\n",
      "this this a sample file\n"
     ]
    }
   ],
   "source": [
    "with open(\"D:\\\\DS\\\\Phitron\\\\Module 7\\\\sample.txt\",\"r\") as file:\n",
    "    for line in file:\n",
    "        # print(line)\n",
    "        #print(line,end=\"\")  # the end function removed extra \\n between two lines\n",
    "        l = line.strip()     # this completely deletes the \\n\n",
    "        print(l)"
   ]
  },
  {
   "cell_type": "markdown",
   "id": "b477d149-c064-4feb-8715-da349d5f56af",
   "metadata": {},
   "source": [
    "### File Write"
   ]
  },
  {
   "cell_type": "code",
   "execution_count": 15,
   "id": "374fd4c5-e55e-418b-ab6e-7254c5d35129",
   "metadata": {},
   "outputs": [],
   "source": [
    "# creating a new file and write in it\n",
    "with open(\"D:\\\\DS\\\\Phitron\\\\Module 7\\\\test.txt\",\"w\") as file:\n",
    "    file.write(\"Hieee, test file\\n\")\n",
    "    file.write(\"bondhuraa new file banai fellammmm\")\n",
    "    "
   ]
  },
  {
   "cell_type": "code",
   "execution_count": 17,
   "id": "3c769349-4767-47e9-a63d-6ebfa854d3b5",
   "metadata": {},
   "outputs": [],
   "source": [
    "# writing in a existing file\n",
    "# it overwrites the file\n",
    "with open(\"D:\\\\DS\\\\Phitron\\\\Module 7\\\\sample.txt\",\"w\") as file:\n",
    "    file.write(\"Hieee, test file\\n\")\n",
    "    file.write(\"bondhuraa new file banai fellammmm\")\n",
    " "
   ]
  },
  {
   "cell_type": "code",
   "execution_count": 21,
   "id": "8c85ecdd-7307-4186-aa99-a31c41f7ba43",
   "metadata": {},
   "outputs": [],
   "source": [
    "# i don't want to overwrite \n",
    "# just want to append something new\n",
    "\n",
    "with open(\"D:\\\\DS\\\\Phitron\\\\Module 7\\\\sample.txt\",\"a\") as file:\n",
    "    file.write(\"\\nlearning is going fast\\n\")\n",
    "    file.write(\"and appended something\")\n",
    " "
   ]
  },
  {
   "cell_type": "code",
   "execution_count": null,
   "id": "4a8d0bab-42fa-40ec-9495-253a4393f4ca",
   "metadata": {},
   "outputs": [],
   "source": []
  }
 ],
 "metadata": {
  "kernelspec": {
   "display_name": "Python 3 (ipykernel)",
   "language": "python",
   "name": "python3"
  },
  "language_info": {
   "codemirror_mode": {
    "name": "ipython",
    "version": 3
   },
   "file_extension": ".py",
   "mimetype": "text/x-python",
   "name": "python",
   "nbconvert_exporter": "python",
   "pygments_lexer": "ipython3",
   "version": "3.13.0b4"
  }
 },
 "nbformat": 4,
 "nbformat_minor": 5
}
