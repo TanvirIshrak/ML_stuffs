{
 "cells": [
  {
   "cell_type": "markdown",
   "id": "c012b78a-5e90-4306-beb7-4b2ac7622dbf",
   "metadata": {},
   "source": [
    "# read() and tell()"
   ]
  },
  {
   "cell_type": "code",
   "execution_count": 5,
   "id": "52c7ccda-50e9-423f-be40-b152ca8eaf39",
   "metadata": {},
   "outputs": [
    {
     "name": "stdout",
     "output_type": "stream",
     "text": [
      "0\n",
      "Hieee, test file\n",
      "bondhuraa new file banai fellammmm\n",
      "learning is going fast\n",
      "and appended something\n",
      "learning is going fast\n",
      "and appended something\n",
      "148\n",
      "\n"
     ]
    }
   ],
   "source": [
    "with open(\"D:\\\\DS\\\\Phitron\\\\Module 7\\\\sample.txt\",\"r\") as file:\n",
    "    print(file.tell()) # to find coursor ta ekhon koi ache...initially index 0 te thakbe\n",
    "    print(file.read())\n",
    "    print(file.tell())  # after reading whole file cursor ekdom last index e cole gace\n",
    "\n",
    "    # now this will show nothing \n",
    "    # bcz cursor ache last index e \n",
    "    # r amra last index theke pora suru korci\n",
    "    print(file.read())\n",
    "    "
   ]
  },
  {
   "cell_type": "code",
   "execution_count": 9,
   "id": "d75a58ce-b951-48e1-bbfb-c012f8d5c3b1",
   "metadata": {},
   "outputs": [
    {
     "name": "stdout",
     "output_type": "stream",
     "text": [
      "Hieee\n",
      "5\n",
      ", test file\n",
      "bondhuraa new file banai fellammmm\n",
      "learning is going fast\n",
      "and appended something\n",
      "learning is going fast\n",
      "and appended something\n"
     ]
    }
   ],
   "source": [
    "# reading till a dedicated index\n",
    "with open(\"D:\\\\DS\\\\Phitron\\\\Module 7\\\\sample.txt\",\"r\") as file:\n",
    "    print(file.read(5))\n",
    "    print(file.tell())\n",
    "\n",
    "    print(file.read())  # reads the rest after first 5 index"
   ]
  },
  {
   "cell_type": "markdown",
   "id": "6e4d951c-f763-44a4-87c6-9e2f274e9df6",
   "metadata": {},
   "source": [
    "# seek()"
   ]
  },
  {
   "cell_type": "code",
   "execution_count": 11,
   "id": "656dfbfe-48ad-47fe-b588-f262520c773d",
   "metadata": {},
   "outputs": [
    {
     "name": "stdout",
     "output_type": "stream",
     "text": [
      "0\n",
      "Hieee\n",
      "2\n"
     ]
    }
   ],
   "source": [
    "# with this function we can move the cursor\n",
    "with open(\"D:\\\\DS\\\\Phitron\\\\Module 7\\\\sample.txt\",\"r\") as file:\n",
    "  \n",
    "    print(file.tell())\n",
    "    print(file.read(5))\n",
    "    file.seek(2)  # we can move forward and backward as well\n",
    "    print(file.tell())"
   ]
  },
  {
   "cell_type": "code",
   "execution_count": null,
   "id": "d6f93e72-4cf1-4a9b-91db-b1efcadd27a8",
   "metadata": {},
   "outputs": [],
   "source": []
  }
 ],
 "metadata": {
  "kernelspec": {
   "display_name": "Python 3 (ipykernel)",
   "language": "python",
   "name": "python3"
  },
  "language_info": {
   "codemirror_mode": {
    "name": "ipython",
    "version": 3
   },
   "file_extension": ".py",
   "mimetype": "text/x-python",
   "name": "python",
   "nbconvert_exporter": "python",
   "pygments_lexer": "ipython3",
   "version": "3.13.0b4"
  }
 },
 "nbformat": 4,
 "nbformat_minor": 5
}
