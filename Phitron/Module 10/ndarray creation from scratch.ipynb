{
 "cells": [
  {
   "cell_type": "code",
   "execution_count": 2,
   "id": "889f4192-7c4e-4bdb-88ad-2350cbc16aa3",
   "metadata": {},
   "outputs": [
    {
     "name": "stdout",
     "output_type": "stream",
     "text": [
      "[[0. 0. 0.]\n",
      " [0. 0. 0.]\n",
      " [0. 0. 0.]]\n",
      "<class 'numpy.ndarray'>\n",
      "float64\n",
      "(3, 3)\n",
      "2\n",
      "9\n"
     ]
    }
   ],
   "source": [
    "#np.zeros\n",
    "import numpy as np\n",
    "arr = np.zeros((3,3))\n",
    "\n",
    "print(arr)\n",
    "print(type(arr))\n",
    "print(arr.dtype)\n",
    "print(arr.shape)\n",
    "print(arr.ndim) \n",
    "print(arr.size)"
   ]
  },
  {
   "cell_type": "code",
   "execution_count": 4,
   "id": "5f642f0f-6eaa-4ac2-b4cf-670f2ad9f677",
   "metadata": {},
   "outputs": [
    {
     "name": "stdout",
     "output_type": "stream",
     "text": [
      "[[[0 0 0 0]\n",
      "  [0 0 0 0]]\n",
      "\n",
      " [[0 0 0 0]\n",
      "  [0 0 0 0]]\n",
      "\n",
      " [[0 0 0 0]\n",
      "  [0 0 0 0]]]\n",
      "(3, 2, 4)\n"
     ]
    }
   ],
   "source": [
    "# np.zeros_like\n",
    "\n",
    "arr3 = np.array([[[1,2,3,4],\n",
    "                 [2,4,5,7] ],\n",
    "                 \n",
    "                [[1,2,3,4],\n",
    "                 [2,4,5,7] ],\n",
    "                \n",
    "                [[1,2,3,4],\n",
    "                 [2,4,5,7] ],\n",
    "                ])\n",
    "\n",
    "arr = np.zeros_like(arr3)\n",
    "print(arr)\n",
    "print(arr.shape)"
   ]
  },
  {
   "cell_type": "code",
   "execution_count": 7,
   "id": "ec9fa8b9-2f93-43f2-8bf5-02c0be8b048c",
   "metadata": {},
   "outputs": [
    {
     "name": "stdout",
     "output_type": "stream",
     "text": [
      "[[[1 1 1]\n",
      "  [1 1 1]\n",
      "  [1 1 1]]\n",
      "\n",
      " [[1 1 1]\n",
      "  [1 1 1]\n",
      "  [1 1 1]]]\n",
      "<class 'numpy.ndarray'>\n",
      "int8\n",
      "(2, 3, 3)\n",
      "3\n",
      "18\n"
     ]
    }
   ],
   "source": [
    "# np.ones\n",
    "\n",
    "arr = np.ones((2,3,3) , dtype = np.int8)\n",
    "            # 2segment 3rows 3columns\n",
    "print(arr)\n",
    "print(type(arr))\n",
    "print(arr.dtype)\n",
    "print(arr.shape)\n",
    "print(arr.ndim) \n",
    "print(arr.size)"
   ]
  },
  {
   "cell_type": "code",
   "execution_count": 13,
   "id": "f57f1625-43b3-4dc2-879e-5b917f816f2f",
   "metadata": {},
   "outputs": [
    {
     "name": "stdout",
     "output_type": "stream",
     "text": [
      "[[-2 -1 -1]\n",
      " [-1  0  0]]\n",
      "<class 'numpy.ndarray'>\n",
      "int8\n",
      "(2, 3)\n",
      "2\n",
      "6\n"
     ]
    }
   ],
   "source": [
    "# np.empty\n",
    "# this generates random numbered array\n",
    "arr = np.empty((2,3), dtype = np.int8)\n",
    "\n",
    "print(arr)\n",
    "print(type(arr))\n",
    "print(arr.dtype)\n",
    "print(arr.shape)\n",
    "print(arr.ndim) \n",
    "print(arr.size)"
   ]
  },
  {
   "cell_type": "code",
   "execution_count": 14,
   "id": "ef106b1f-57b8-4100-a288-4de2cecbead1",
   "metadata": {},
   "outputs": [
    {
     "name": "stdout",
     "output_type": "stream",
     "text": [
      "[[10 10 10]\n",
      " [10 10 10]]\n",
      "<class 'numpy.ndarray'>\n",
      "int64\n",
      "(2, 3)\n",
      "2\n",
      "6\n"
     ]
    }
   ],
   "source": [
    "# np.full\n",
    "\n",
    "arr = np.full((2,3), 10)\n",
    "      # 2rows 3columns  and filled with which value\n",
    "print(arr)\n",
    "print(type(arr))\n",
    "print(arr.dtype)\n",
    "print(arr.shape)\n",
    "print(arr.ndim) \n",
    "print(arr.size)"
   ]
  },
  {
   "cell_type": "code",
   "execution_count": null,
   "id": "ade36e63-1215-4ada-ad8f-81b835775d56",
   "metadata": {},
   "outputs": [],
   "source": []
  }
 ],
 "metadata": {
  "kernelspec": {
   "display_name": "Python 3 (ipykernel)",
   "language": "python",
   "name": "python3"
  },
  "language_info": {
   "codemirror_mode": {
    "name": "ipython",
    "version": 3
   },
   "file_extension": ".py",
   "mimetype": "text/x-python",
   "name": "python",
   "nbconvert_exporter": "python",
   "pygments_lexer": "ipython3",
   "version": "3.12.10"
  }
 },
 "nbformat": 4,
 "nbformat_minor": 5
}
