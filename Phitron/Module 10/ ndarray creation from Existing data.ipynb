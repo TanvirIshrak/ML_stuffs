{
 "cells": [
  {
   "cell_type": "code",
   "execution_count": 4,
   "id": "1f0eda13-aca2-406a-ae51-767717086d9b",
   "metadata": {},
   "outputs": [
    {
     "name": "stdout",
     "output_type": "stream",
     "text": [
      "[10 20 30 40]\n",
      "<class 'numpy.ndarray'>\n",
      "int32\n"
     ]
    }
   ],
   "source": [
    "import numpy as np\n",
    "lis = [10,20,30,40.3]\n",
    "\n",
    "arr = np.array(lis, dtype = np.int32)\n",
    "\n",
    "print(arr)\n",
    "print(type(arr))\n",
    "print(arr.dtype)"
   ]
  },
  {
   "cell_type": "code",
   "execution_count": 6,
   "id": "35951a77-7a49-4b77-a48f-0c7d7ac25631",
   "metadata": {},
   "outputs": [
    {
     "name": "stdout",
     "output_type": "stream",
     "text": [
      "[[1 2 3 4]\n",
      " [2 4 5 7]]\n",
      "<class 'numpy.ndarray'>\n",
      "int64\n",
      "2\n",
      "(2, 4)\n"
     ]
    }
   ],
   "source": [
    "matrix = [[1,2,3,4],\n",
    "          [2,4,5,7]]\n",
    "arr = np.array(matrix)\n",
    "\n",
    "print(arr)\n",
    "print(type(arr))\n",
    "print(arr.dtype)\n",
    "print(arr.ndim)\n",
    "print(arr.shape)\n",
    "\n"
   ]
  },
  {
   "cell_type": "code",
   "execution_count": 2,
   "id": "ba7c3018-1652-41b5-840f-cd8aa3814996",
   "metadata": {},
   "outputs": [
    {
     "name": "stdout",
     "output_type": "stream",
     "text": [
      "[10 20 30]\n",
      "<class 'numpy.ndarray'>\n",
      "int32\n",
      "1\n",
      "(3,)\n"
     ]
    }
   ],
   "source": [
    "# tupple \n",
    "import numpy as np\n",
    "tup = (10,20,30)\n",
    "arr = np.array(tup, dtype = np.int32)\n",
    "print(arr)\n",
    "print(type(arr))\n",
    "print(arr.dtype)\n",
    "print(arr.ndim)\n",
    "print(arr.shape)"
   ]
  },
  {
   "cell_type": "code",
   "execution_count": 3,
   "id": "69c9b25a-5efb-4e9f-a589-d2146d7299b8",
   "metadata": {},
   "outputs": [
    {
     "name": "stdout",
     "output_type": "stream",
     "text": [
      "{10, 20, 30}\n",
      "<class 'numpy.ndarray'>\n",
      "object\n",
      "0\n",
      "()\n"
     ]
    }
   ],
   "source": [
    "# set\n",
    "\n",
    "set = {10,20,30}\n",
    "arr = np.array(set)\n",
    "print(arr)\n",
    "print(type(arr))\n",
    "print(arr.dtype)\n",
    "print(arr.ndim)\n",
    "print(arr.shape)"
   ]
  },
  {
   "cell_type": "code",
   "execution_count": 12,
   "id": "a67b1862-8bf6-4d01-8e18-f1cee8ae8308",
   "metadata": {},
   "outputs": [
    {
     "name": "stdout",
     "output_type": "stream",
     "text": [
      "dict_keys(['a', 'b'])\n",
      "dict_values([10, 20])\n",
      "['a' 'b']\n",
      "<class 'numpy.ndarray'>\n",
      "<U1\n",
      "1\n",
      "(2,)\n",
      "\n",
      "\n",
      "[10 20]\n",
      "<class 'numpy.ndarray'>\n",
      "int64\n",
      "1\n",
      "(2,)\n",
      "\n",
      "\n",
      "[['a' '10']\n",
      " ['b' '20']]\n",
      "<class 'numpy.ndarray'>\n",
      "<U21\n",
      "2\n",
      "(2, 2)\n"
     ]
    }
   ],
   "source": [
    "dic = {'a':10 , 'b':20}\n",
    "keys = dic.keys()\n",
    "print(keys)\n",
    "print(dic.values())\n",
    "\n",
    "# keys to ndarray\n",
    "arr = np.array(list(keys))\n",
    "print(arr)\n",
    "print(type(arr))\n",
    "print(arr.dtype)\n",
    "print(arr.ndim) \n",
    "print(arr.shape)\n",
    "\n",
    "print(\"\\n\")\n",
    "\n",
    "# values to ndarray\n",
    "values = dic.values()\n",
    "arr = np.array(list(values))\n",
    "print(arr)\n",
    "print(type(arr))\n",
    "print(arr.dtype)\n",
    "print(arr.ndim) \n",
    "print(arr.shape)\n",
    "\n",
    "print(\"\\n\")\n",
    "\n",
    "# items to ndarray\n",
    "items = dic.items()\n",
    "arr = np.array(list(items))\n",
    "print(arr)\n",
    "print(type(arr))\n",
    "print(arr.dtype)\n",
    "print(arr.ndim) \n",
    "print(arr.shape)\n"
   ]
  },
  {
   "cell_type": "code",
   "execution_count": null,
   "id": "aba7c4df-811e-4dad-857a-c9df2a9a818a",
   "metadata": {},
   "outputs": [],
   "source": []
  }
 ],
 "metadata": {
  "kernelspec": {
   "display_name": "Python 3 (ipykernel)",
   "language": "python",
   "name": "python3"
  },
  "language_info": {
   "codemirror_mode": {
    "name": "ipython",
    "version": 3
   },
   "file_extension": ".py",
   "mimetype": "text/x-python",
   "name": "python",
   "nbconvert_exporter": "python",
   "pygments_lexer": "ipython3",
   "version": "3.12.10"
  }
 },
 "nbformat": 4,
 "nbformat_minor": 5
}
