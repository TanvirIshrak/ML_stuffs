{
 "cells": [
  {
   "cell_type": "markdown",
   "id": "e09a5269-34b8-4f62-a30f-466ec54f7ab6",
   "metadata": {},
   "source": [
    "   ## Array creation with random values"
   ]
  },
  {
   "cell_type": "code",
   "execution_count": 4,
   "id": "7d903eb2-22dd-4555-80ee-a3f10693eaf2",
   "metadata": {},
   "outputs": [
    {
     "name": "stdout",
     "output_type": "stream",
     "text": [
      "[[0.48329678 0.83508044 0.19245547]\n",
      " [0.21545188 0.55408241 0.14957963]]\n",
      "<class 'numpy.ndarray'>\n",
      "float64\n",
      "(2, 3)\n",
      "2\n",
      "6\n"
     ]
    }
   ],
   "source": [
    "import numpy as np\n",
    " # np.random.rand(shape)\n",
    "\n",
    "arr = np.random.rand(2,3) # 0 to 1 values\n",
    "\n",
    "print(arr)\n",
    "print(type(arr))\n",
    "print(arr.dtype)\n",
    "print(arr.shape)\n",
    "print(arr.ndim)\n",
    "print(arr.size)"
   ]
  },
  {
   "cell_type": "code",
   "execution_count": 13,
   "id": "5e4c2e24-23da-405b-bc73-8bef6786cfb1",
   "metadata": {},
   "outputs": [
    {
     "name": "stdout",
     "output_type": "stream",
     "text": [
      "[[1 8 4 8 8 1 4 8 4 1]\n",
      " [2 9 1 6 7 3 2 9 6 1]\n",
      " [3 5 6 1 5 6 3 7 8 5]\n",
      " [5 4 2 7 6 7 5 1 4 1]\n",
      " [3 4 9 3 9 8 8 9 7 5]\n",
      " [8 6 3 7 9 2 4 8 6 8]\n",
      " [5 1 6 2 2 2 2 9 5 9]\n",
      " [2 3 7 5 2 2 1 9 4 1]\n",
      " [6 4 3 3 4 5 5 5 9 9]\n",
      " [3 2 4 8 7 1 8 5 7 2]]\n",
      "<class 'numpy.ndarray'>\n",
      "int32\n",
      "(10, 10)\n",
      "2\n",
      "100\n"
     ]
    }
   ],
   "source": [
    " # np.random.randint(start,end , shape)\n",
    "\n",
    "arr = np.random.randint(1,10,(10,10)) # 1 to 10 values\n",
    "                    # 1 -> 10 th values (row,column)\n",
    "# creating 1D array\n",
    "# arr = np.random.randint(1,10,(2,)) # 1 to 10 values\n",
    "#                     # 1 -> 10 th values (row,column)\n",
    "print(arr)\n",
    "print(type(arr))\n",
    "print(arr.dtype)\n",
    "print(arr.shape)\n",
    "print(arr.ndim)\n",
    "print(arr.size)"
   ]
  },
  {
   "cell_type": "code",
   "execution_count": 16,
   "id": "5ddd1613-46e5-47be-91fe-18937c21e8ab",
   "metadata": {},
   "outputs": [
    {
     "name": "stdout",
     "output_type": "stream",
     "text": [
      "[[13.59017468 11.11260748 10.25160131]\n",
      " [17.97085462 11.4961506  10.30969707]]\n",
      "<class 'numpy.ndarray'>\n",
      "float64\n",
      "(2, 3)\n",
      "2\n",
      "6\n"
     ]
    }
   ],
   "source": [
    " # np.random.uniform(start,end , shape)\n",
    "\n",
    "arr = np.random.uniform(10,20,(2,3)) # 10 to 20 values\n",
    "                    # 10 -> 20 th values (row,column)\n",
    "\n",
    "print(arr)\n",
    "print(type(arr))\n",
    "print(arr.dtype)\n",
    "print(arr.shape)\n",
    "print(arr.ndim)\n",
    "print(arr.size)"
   ]
  },
  {
   "cell_type": "code",
   "execution_count": null,
   "id": "e4c16e34-09ab-4006-8d26-5bc32163b2ac",
   "metadata": {},
   "outputs": [],
   "source": []
  }
 ],
 "metadata": {
  "kernelspec": {
   "display_name": "Python 3 (ipykernel)",
   "language": "python",
   "name": "python3"
  },
  "language_info": {
   "codemirror_mode": {
    "name": "ipython",
    "version": 3
   },
   "file_extension": ".py",
   "mimetype": "text/x-python",
   "name": "python",
   "nbconvert_exporter": "python",
   "pygments_lexer": "ipython3",
   "version": "3.12.10"
  }
 },
 "nbformat": 4,
 "nbformat_minor": 5
}
