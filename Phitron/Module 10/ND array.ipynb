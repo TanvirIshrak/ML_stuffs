{
 "cells": [
  {
   "cell_type": "markdown",
   "id": "8cc7a6e0-5567-467f-aa95-7437e59d67af",
   "metadata": {},
   "source": [
    "## general way "
   ]
  },
  {
   "cell_type": "code",
   "execution_count": 3,
   "id": "95613b50-ddcd-4cf5-963f-e352d4b3c687",
   "metadata": {},
   "outputs": [
    {
     "name": "stdout",
     "output_type": "stream",
     "text": [
      "[1, 2, 3, 1, 2, 3, 1, 2, 3, 1, 2, 3, 1, 2, 3]\n",
      "[5, 10, 15]\n"
     ]
    }
   ],
   "source": [
    "arr = [1,2,3]\n",
    "print(arr * 5)\n",
    "\n",
    "arr = [ x*5 for x in arr]\n",
    "print(arr)"
   ]
  },
  {
   "cell_type": "markdown",
   "id": "cd4e5379-1c0a-4261-9b76-34d60e9c2a25",
   "metadata": {},
   "source": [
    "## Implementing numpy"
   ]
  },
  {
   "cell_type": "code",
   "execution_count": 5,
   "id": "c96ad56c-9513-44c7-900a-8ee3b8d865cf",
   "metadata": {},
   "outputs": [
    {
     "name": "stdout",
     "output_type": "stream",
     "text": [
      "[ 5 10 15]\n"
     ]
    }
   ],
   "source": [
    "import numpy as np\n",
    "\n",
    "arr1 = np.array([1,2,3])\n",
    "arr1 = arr1*5\n",
    "\n",
    "print(arr1)"
   ]
  },
  {
   "cell_type": "markdown",
   "id": "a63d70a0-1519-404c-8db3-8b37440b106b",
   "metadata": {},
   "source": [
    "## Ndarray"
   ]
  },
  {
   "cell_type": "code",
   "execution_count": 10,
   "id": "ed14f9e3-909d-4f73-89f2-ab6cb4632976",
   "metadata": {},
   "outputs": [
    {
     "name": "stdout",
     "output_type": "stream",
     "text": [
      "<class 'numpy.ndarray'>\n",
      "1\n",
      "2\n",
      "3\n"
     ]
    }
   ],
   "source": [
    "import numpy as np\n",
    "\n",
    "# 1D array\n",
    "\n",
    "arr1 = np.array([1,2,3,4])\n",
    "print(type(arr1))\n",
    "\n",
    "# to know the dimention \n",
    "print(arr1.ndim)\n",
    "\n",
    "# 2D array\n",
    "arr2 = np.array([[1,2,3,4],\n",
    "                 [2,4,5,7]])\n",
    "print(arr2.ndim)\n",
    "\n",
    "\n",
    "# 3D array\n",
    "# 3D array is basically a bunch of 2D arrays\n",
    "arr3 = np.array([[[1,2,3,4],\n",
    "                 [2,4,5,7] ],\n",
    "                 \n",
    "                [[1,2,3,4],\n",
    "                 [2,4,5,7] ],\n",
    "                \n",
    "                [[1,2,3,4],\n",
    "                 [2,4,5,7] ],\n",
    "                \n",
    "                ])\n",
    "print(arr3.ndim)"
   ]
  },
  {
   "cell_type": "markdown",
   "id": "57f3f0e5-a82d-430b-9b29-2e19c7a8bac0",
   "metadata": {},
   "source": [
    "# Array attributes"
   ]
  },
  {
   "cell_type": "code",
   "execution_count": 14,
   "id": "6281fc9a-6115-4848-9007-981bb19b8a4e",
   "metadata": {},
   "outputs": [
    {
     "name": "stdout",
     "output_type": "stream",
     "text": [
      "1\n",
      "2\n",
      "3\n",
      "(4,)\n",
      "(2, 4)\n",
      "(3, 2, 4)\n",
      "int64\n",
      "int64\n",
      "int64\n",
      "4\n",
      "8\n",
      "24\n"
     ]
    }
   ],
   "source": [
    "# Dimention\n",
    "print(arr1.ndim)\n",
    "print(arr2.ndim)\n",
    "print(arr3.ndim)\n",
    "\n",
    "\n",
    "# Shape\n",
    "print(arr1.shape)\n",
    "print(arr2.shape)\n",
    "print(arr3.shape)\n",
    "\n",
    "\n",
    "# Data type\n",
    "print(arr1.dtype)\n",
    "print(arr2.dtype)\n",
    "print(arr3.dtype)\n",
    "\n",
    "\n",
    "# Size\n",
    "print(arr1.size)\n",
    "print(arr2.size)\n",
    "print(arr3.size)"
   ]
  },
  {
   "cell_type": "markdown",
   "id": "08213537-854a-4f15-b18b-abef1d25b81c",
   "metadata": {},
   "source": [
    "## Ndarray data type"
   ]
  },
  {
   "cell_type": "code",
   "execution_count": 17,
   "id": "1037e8ca-5bd7-44e8-b5dd-c027bf6a5ae5",
   "metadata": {},
   "outputs": [
    {
     "name": "stdout",
     "output_type": "stream",
     "text": [
      "int64\n",
      "float64\n",
      "float64\n",
      "<U32\n"
     ]
    }
   ],
   "source": [
    "# int\n",
    "arr  = np.array([1,2,3])\n",
    "print(arr.dtype)\n",
    "\n",
    "# float\n",
    "arr  = np.array([1.5,2.7,3.])\n",
    "print(arr.dtype)\n",
    "\n",
    "# mix\n",
    "arr  = np.array([1,2,3.])\n",
    "print(arr.dtype)\n",
    "\n",
    "# mix with string\n",
    "arr  = np.array([1,2.7,\"3\"])\n",
    "print(arr.dtype)"
   ]
  },
  {
   "cell_type": "markdown",
   "id": "34308bba-7653-4adb-a789-322f74ccf547",
   "metadata": {},
   "source": [
    "### Selecting a data type for an array"
   ]
  },
  {
   "cell_type": "code",
   "execution_count": 21,
   "id": "ce6ec2f3-9f94-4478-969d-dca89aa140b5",
   "metadata": {},
   "outputs": [
    {
     "name": "stdout",
     "output_type": "stream",
     "text": [
      "int8\n",
      "int16\n"
     ]
    }
   ],
   "source": [
    "arr  = np.array([1,2,3], dtype = np.int8)\n",
    "# arr  = np.array([1,2,3,300], dtype = np.int8)\n",
    "# int8 data type can hold from -127 to 127 \n",
    "print(arr.dtype)\n",
    "\n",
    "arr  = np.array([1,2,3,300], dtype = np.int16)\n",
    "print(arr.dtype)"
   ]
  },
  {
   "cell_type": "code",
   "execution_count": null,
   "id": "565f3143-d323-4b6f-bb91-4e141404053a",
   "metadata": {},
   "outputs": [],
   "source": []
  }
 ],
 "metadata": {
  "kernelspec": {
   "display_name": "Python 3 (ipykernel)",
   "language": "python",
   "name": "python3"
  },
  "language_info": {
   "codemirror_mode": {
    "name": "ipython",
    "version": 3
   },
   "file_extension": ".py",
   "mimetype": "text/x-python",
   "name": "python",
   "nbconvert_exporter": "python",
   "pygments_lexer": "ipython3",
   "version": "3.12.10"
  }
 },
 "nbformat": 4,
 "nbformat_minor": 5
}
