{
 "cells": [
  {
   "cell_type": "code",
   "execution_count": 2,
   "id": "9bdb2ebe-4013-4263-a3dc-a0f130511028",
   "metadata": {},
   "outputs": [
    {
     "name": "stdout",
     "output_type": "stream",
     "text": [
      "[[1 0 0]\n",
      " [0 2 0]\n",
      " [0 0 3]]\n"
     ]
    }
   ],
   "source": [
    "# creating diagonal matrix\n",
    "import numpy as np\n",
    "dia_mat = np.diag([1,2,3])\n",
    "print(dia_mat)"
   ]
  },
  {
   "cell_type": "code",
   "execution_count": 4,
   "id": "4d7cfb73-468d-4861-85f3-d3a274b9d1b6",
   "metadata": {},
   "outputs": [
    {
     "name": "stdout",
     "output_type": "stream",
     "text": [
      "[[1. 0. 0. 0.]\n",
      " [0. 1. 0. 0.]\n",
      " [0. 0. 1. 0.]\n",
      " [0. 0. 0. 1.]]\n"
     ]
    }
   ],
   "source": [
    "# identity matrix\n",
    "identity_mat = np.eye(4)\n",
    "print(identity_mat)"
   ]
  },
  {
   "cell_type": "markdown",
   "id": "d61de1d7-49eb-49c3-a188-ec301964866c",
   "metadata": {},
   "source": [
    "# Indexing and slicing"
   ]
  },
  {
   "cell_type": "code",
   "execution_count": 10,
   "id": "bfbca548-1b06-4aca-a2c3-f580607bbbe4",
   "metadata": {},
   "outputs": [
    {
     "name": "stdout",
     "output_type": "stream",
     "text": [
      "[[1 0 0]\n",
      " [0 2 0]\n",
      " [0 0 3]]\n",
      "[[1 0 0]]\n",
      "[[1]\n",
      " [0]\n",
      " [0]]\n",
      "[[1 0]\n",
      " [0 2]\n",
      " [0 0]]\n"
     ]
    }
   ],
   "source": [
    "#2D slicing\n",
    "# arr[row_start : row_end : step , column_start : column_end : step]\n",
    "\n",
    "print(dia_mat)\n",
    "\n",
    "# getting a row\n",
    "row_0 = dia_mat[0:1 , ]\n",
    "print(row_0)\n",
    "\n",
    "# getting a column\n",
    "col_0 = dia_mat[:: , 0:1]\n",
    "print(col_0)\n",
    "\n",
    "\n",
    "\n",
    "# getting a portion\n",
    "portion = dia_mat[:: , 0:2]\n",
    "print(portion)"
   ]
  },
  {
   "cell_type": "markdown",
   "id": "6473a2a4-b7c2-4d3f-9e54-bb07b80cf773",
   "metadata": {},
   "source": [
    "# Advanced indexing"
   ]
  },
  {
   "cell_type": "code",
   "execution_count": 27,
   "id": "1e6da665-76af-4952-9a0d-4a56ece3bbc8",
   "metadata": {},
   "outputs": [
    {
     "name": "stdout",
     "output_type": "stream",
     "text": [
      "[3 5]\n",
      "[2 6]\n",
      "[3 4 5 6 7 8 9]\n",
      "1\n",
      "2\n",
      "3\n",
      "4\n",
      "5\n",
      "6\n",
      "7\n",
      "8\n",
      "9\n"
     ]
    }
   ],
   "source": [
    "lis = np.array([1,2,3,4,5,6])\n",
    "values = lis[[2,4]]  #lis[[index]]\n",
    "print(values)\n",
    "\n",
    "mat = np.array([[1,2,3],\n",
    "        [4,5,6],\n",
    "        [7,8,9]])\n",
    "\n",
    "print(mat[[0,1] , [1,2]])\n",
    "\n",
    "print(mat[mat>2])\n",
    "\n",
    "\n",
    "for i in np.nditer(mat):\n",
    "    print(i)"
   ]
  },
  {
   "cell_type": "code",
   "execution_count": null,
   "id": "3570b621-13a4-46e9-a9c7-cc0379549dc6",
   "metadata": {},
   "outputs": [],
   "source": []
  }
 ],
 "metadata": {
  "kernelspec": {
   "display_name": "Python 3 (ipykernel)",
   "language": "python",
   "name": "python3"
  },
  "language_info": {
   "codemirror_mode": {
    "name": "ipython",
    "version": 3
   },
   "file_extension": ".py",
   "mimetype": "text/x-python",
   "name": "python",
   "nbconvert_exporter": "python",
   "pygments_lexer": "ipython3",
   "version": "3.12.10"
  }
 },
 "nbformat": 4,
 "nbformat_minor": 5
}
