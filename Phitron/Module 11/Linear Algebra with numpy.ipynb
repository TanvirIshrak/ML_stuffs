{
 "cells": [
  {
   "cell_type": "code",
   "execution_count": 4,
   "id": "17a72b41-3c9a-4059-a1a4-f454c48764cc",
   "metadata": {},
   "outputs": [
    {
     "name": "stdout",
     "output_type": "stream",
     "text": [
      "[[ 58  64]\n",
      " [139 154]]\n",
      "17\n"
     ]
    }
   ],
   "source": [
    "import numpy as np\n",
    "A = np.array([[1,2,3],\n",
    "              [4,5,6]])\n",
    "B = np.array([[7,8],\n",
    "              [9,10],\n",
    "              [11,12]])\n",
    "\n",
    "dot_product = np.dot(A,B)\n",
    "print(dot_product)\n",
    "\n",
    "print(np.trace(B))\n",
    "\n"
   ]
  },
  {
   "cell_type": "code",
   "execution_count": 7,
   "id": "a54cab9c-71bb-4c25-b679-b482b2186317",
   "metadata": {},
   "outputs": [
    {
     "name": "stdout",
     "output_type": "stream",
     "text": [
      "(3, 3)\n",
      "-59.999999999999986\n"
     ]
    }
   ],
   "source": [
    "# determinent of matrix\n",
    "sqr_mat = np.array([[1,2,3],\n",
    "                    [4,10,6],\n",
    "                   [7,8,9]])\n",
    "print(sqr_mat.shape)\n",
    "det = np.linalg.det(sqr_mat)\n",
    "print(det)"
   ]
  },
  {
   "cell_type": "code",
   "execution_count": 10,
   "id": "badbd91f-acad-473f-b57f-085d73004481",
   "metadata": {},
   "outputs": [
    {
     "name": "stdout",
     "output_type": "stream",
     "text": [
      "2\n"
     ]
    }
   ],
   "source": [
    "# rank of matrix\n",
    "sqr_mat = np.array([[1,2,3],\n",
    "                    [4,5,6],\n",
    "                   [7,8,9]])\n",
    "rank_sqr = np.linalg.matrix_rank(sqr_mat)\n",
    "print(rank_sqr)"
   ]
  },
  {
   "cell_type": "code",
   "execution_count": null,
   "id": "c3d454c4-71d3-4849-ad06-f8918ad3a3d3",
   "metadata": {},
   "outputs": [],
   "source": []
  }
 ],
 "metadata": {
  "kernelspec": {
   "display_name": "Python 3 (ipykernel)",
   "language": "python",
   "name": "python3"
  },
  "language_info": {
   "codemirror_mode": {
    "name": "ipython",
    "version": 3
   },
   "file_extension": ".py",
   "mimetype": "text/x-python",
   "name": "python",
   "nbconvert_exporter": "python",
   "pygments_lexer": "ipython3",
   "version": "3.12.10"
  }
 },
 "nbformat": 4,
 "nbformat_minor": 5
}
