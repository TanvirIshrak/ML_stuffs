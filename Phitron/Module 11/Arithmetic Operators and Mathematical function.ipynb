{
 "cells": [
  {
   "cell_type": "code",
   "execution_count": 9,
   "id": "be21be2c-95f9-4578-a399-dc451b06437d",
   "metadata": {},
   "outputs": [
    {
     "name": "stdout",
     "output_type": "stream",
     "text": [
      "[  6   8  10 108]\n"
     ]
    }
   ],
   "source": [
    "import numpy as np\n",
    "\n",
    "# faster for factorization\n",
    "a =np.array([1,2,3,100])\n",
    "b = np.array([5,6,7,8])\n",
    "\n",
    "# addition\n",
    "add = a+b  # elemrnt position wise addition\n",
    "print(add)\n",
    "\n",
    "\n"
   ]
  },
  {
   "cell_type": "code",
   "execution_count": 10,
   "id": "6e9b055e-2cbe-42ff-a670-694e0bed0c0c",
   "metadata": {},
   "outputs": [
    {
     "name": "stdout",
     "output_type": "stream",
     "text": [
      "[ 0.84147098  0.90929743  0.14112001 -0.50636564]\n",
      "[  57.29577951  114.59155903  171.88733854 5729.57795131]\n"
     ]
    }
   ],
   "source": [
    "# mathematical function \n",
    "\n",
    "# trigonometry\n",
    "# sin , cos, tan takes values in radian\n",
    "sin_val = np.sin(a)  \n",
    "print(sin_val)\n",
    "\n",
    "# radian to degree\n",
    "deg_conversion = np.rad2deg(a)\n",
    "print(deg_conversion)"
   ]
  },
  {
   "cell_type": "code",
   "execution_count": 13,
   "id": "7969554c-8e1d-4f17-bdb8-2603fa152f91",
   "metadata": {},
   "outputs": [
    {
     "name": "stdout",
     "output_type": "stream",
     "text": [
      "[0.         0.30103    0.47712125 2.        ]\n",
      "[ 1.          1.41421356  1.73205081 10.        ]\n"
     ]
    }
   ],
   "source": [
    "# log\n",
    "\n",
    "base_10_log_val = np.log10(a)  # it represents how much time we can devide a val \n",
    "                                # ex. 100/10 = 10  , 10/10 =1  ans is 2\n",
    "print(base_10_log_val)\n",
    "\n",
    "sqrt = np.sqrt(a)\n",
    "print(sqrt)"
   ]
  },
  {
   "cell_type": "code",
   "execution_count": 16,
   "id": "8a956207-1f21-4e38-9283-3191fe2dbc9c",
   "metadata": {},
   "outputs": [
    {
     "name": "stdout",
     "output_type": "stream",
     "text": [
      "[  1   3   6 106]\n"
     ]
    }
   ],
   "source": [
    "# different types\n",
    "\n",
    "# cumulative sum\n",
    "cumul = np.cumulative_sum(a)  # por por + kore agaite thakbe\n",
    "print(cumul)"
   ]
  },
  {
   "cell_type": "code",
   "execution_count": null,
   "id": "d1d26bd1-d4a9-408e-9b90-7a87883d2658",
   "metadata": {},
   "outputs": [],
   "source": []
  }
 ],
 "metadata": {
  "kernelspec": {
   "display_name": "Python 3 (ipykernel)",
   "language": "python",
   "name": "python3"
  },
  "language_info": {
   "codemirror_mode": {
    "name": "ipython",
    "version": 3
   },
   "file_extension": ".py",
   "mimetype": "text/x-python",
   "name": "python",
   "nbconvert_exporter": "python",
   "pygments_lexer": "ipython3",
   "version": "3.12.10"
  }
 },
 "nbformat": 4,
 "nbformat_minor": 5
}
