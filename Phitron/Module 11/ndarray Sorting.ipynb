{
 "cells": [
  {
   "cell_type": "markdown",
   "id": "b0ff003b-4249-41be-a0bf-f3eb69b4c6bd",
   "metadata": {},
   "source": [
    "## inplace sorting"
   ]
  },
  {
   "cell_type": "code",
   "execution_count": 3,
   "id": "afeccfa1-ce58-4750-9429-efa9a4c6eb0e",
   "metadata": {},
   "outputs": [
    {
     "name": "stdout",
     "output_type": "stream",
     "text": [
      "[10 34  4 42 12]\n",
      "[ 4 10 12 34 42]\n"
     ]
    }
   ],
   "source": [
    "# once sorted we can't get back the previous unsorted one\n",
    "import numpy as np\n",
    "x = np.array([10,34,4,42,12])\n",
    "\n",
    "z = x.copy()\n",
    "print(z)\n",
    "\n",
    "z.sort()\n",
    "\n",
    "print(z)\n"
   ]
  },
  {
   "cell_type": "markdown",
   "id": "e7493819-254f-4f7b-ac99-3be9d2f136fc",
   "metadata": {},
   "source": [
    "## Copy sorting"
   ]
  },
  {
   "cell_type": "code",
   "execution_count": 5,
   "id": "9b334ace-6897-49ef-8910-3437f648715b",
   "metadata": {},
   "outputs": [
    {
     "name": "stdout",
     "output_type": "stream",
     "text": [
      "[ 4 10 12 34 42]\n",
      "[10 34  4 42 12]\n"
     ]
    }
   ],
   "source": [
    "sort_arr = np.sort(x)\n",
    "print(sort_arr)\n",
    "print(x)"
   ]
  },
  {
   "cell_type": "markdown",
   "id": "9d45da4f-8a77-4795-8fcd-2c859d563e4a",
   "metadata": {},
   "source": [
    "## 2D array sorting\n"
   ]
  },
  {
   "cell_type": "code",
   "execution_count": 7,
   "id": "8dab7008-8749-4c71-85ad-d993a6e53e05",
   "metadata": {},
   "outputs": [
    {
     "name": "stdout",
     "output_type": "stream",
     "text": [
      "[[ 3  5 10]\n",
      " [ 4  8  9]]\n"
     ]
    }
   ],
   "source": [
    "mat = np.array([[10,3,5],[8,4,9]])\n",
    "\n",
    "# horizontally axis = 1\n",
    "hor_sort = np.sort(mat,axis = 1)\n",
    "print(hor_sort)\n",
    "# horizontally axis = 1\n",
    "hor_sort = np.sort(mat,axis = 1)\n",
    "print(hor_sort)"
   ]
  },
  {
   "cell_type": "code",
   "execution_count": null,
   "id": "bfcedbb3-611c-4961-a8f3-35a4193c10af",
   "metadata": {},
   "outputs": [],
   "source": []
  }
 ],
 "metadata": {
  "kernelspec": {
   "display_name": "Python 3 (ipykernel)",
   "language": "python",
   "name": "python3"
  },
  "language_info": {
   "codemirror_mode": {
    "name": "ipython",
    "version": 3
   },
   "file_extension": ".py",
   "mimetype": "text/x-python",
   "name": "python",
   "nbconvert_exporter": "python",
   "pygments_lexer": "ipython3",
   "version": "3.12.10"
  }
 },
 "nbformat": 4,
 "nbformat_minor": 5
}
