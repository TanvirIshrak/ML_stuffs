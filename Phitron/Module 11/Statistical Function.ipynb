{
 "cells": [
  {
   "cell_type": "code",
   "execution_count": 9,
   "id": "e96f1669-6e7a-49bf-a0f2-307b8c20aa7b",
   "metadata": {},
   "outputs": [
    {
     "name": "stdout",
     "output_type": "stream",
     "text": [
      "[[67. 90. 69.]\n",
      " [34. 87. 65.]\n",
      " [54. 76. 90.]\n",
      " [23. 56. 76.]\n",
      " [78. 92. 57.]\n",
      " [98. 93. 94.]\n",
      " [78. 86. 64.]\n",
      " [67. 88. 70.]\n",
      " [87. 99. 59.]\n",
      " [67. 98. 45.]\n",
      " [45. 95. 38.]\n",
      " [95. 64. 95.]\n",
      " [75. 87. 43.]\n",
      " [43. 34. 78.]\n",
      " [98. 87. 45.]\n",
      " [56. 34. 78.]\n",
      " [43. 78. 93.]\n",
      " [91. 94. 95.]\n",
      " [82. 48. 53.]\n",
      " [85. 60. 86.]]\n"
     ]
    }
   ],
   "source": [
    "# Data load\n",
    "import numpy as np\n",
    "data = np.genfromtxt(\"result.csv\", delimiter=',', skip_header =1)\n",
    "print(data)"
   ]
  },
  {
   "cell_type": "code",
   "execution_count": 14,
   "id": "e4a15c0f-b1ba-4718-8162-e4ef2b42c650",
   "metadata": {},
   "outputs": [
    {
     "name": "stdout",
     "output_type": "stream",
     "text": [
      "[[67. 34. 54. 23. 78. 98. 78. 67. 87. 67. 45. 95. 75. 43. 98. 56. 43. 91.\n",
      "  82. 85.]]\n",
      "98.0\n",
      "68.3\n",
      "21.741895041601133\n"
     ]
    }
   ],
   "source": [
    "# statistics\n",
    "math_marks = data[:: , :1]\n",
    "print(math_marks.T)\n",
    "\n",
    "max_math_marks = np.max(math_marks)\n",
    "print(max_math_marks)\n",
    "\n",
    "max_math_marks = np.mean(math_marks)\n",
    "print(max_math_marks)\n",
    "\n",
    "# standard daviation\n",
    "std_math_marks= np.std(math_marks)\n",
    "print(std_math_marks)"
   ]
  },
  {
   "cell_type": "code",
   "execution_count": null,
   "id": "c4c8e3e3-9c6b-4dcf-a774-d1e281ff98d1",
   "metadata": {},
   "outputs": [],
   "source": []
  },
  {
   "cell_type": "code",
   "execution_count": null,
   "id": "194817e7-936f-480a-a91e-a6143b94a673",
   "metadata": {},
   "outputs": [],
   "source": []
  }
 ],
 "metadata": {
  "kernelspec": {
   "display_name": "Python 3 (ipykernel)",
   "language": "python",
   "name": "python3"
  },
  "language_info": {
   "codemirror_mode": {
    "name": "ipython",
    "version": 3
   },
   "file_extension": ".py",
   "mimetype": "text/x-python",
   "name": "python",
   "nbconvert_exporter": "python",
   "pygments_lexer": "ipython3",
   "version": "3.12.10"
  }
 },
 "nbformat": 4,
 "nbformat_minor": 5
}
