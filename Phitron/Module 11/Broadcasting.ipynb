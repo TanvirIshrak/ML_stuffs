{
 "cells": [
  {
   "cell_type": "code",
   "execution_count": 3,
   "id": "1cbfe7ac-94dd-46e0-8b67-5c4920c2eedb",
   "metadata": {},
   "outputs": [
    {
     "name": "stdout",
     "output_type": "stream",
     "text": [
      "[    1     4     9 10000]\n",
      "[  3   4   5 102]\n"
     ]
    }
   ],
   "source": [
    "import numpy as np\n",
    "a =np.array([1,2,3,100])\n",
    "\n",
    "result = a**2\n",
    "print(result)\n",
    "result = a+2\n",
    "print(result)"
   ]
  },
  {
   "cell_type": "markdown",
   "id": "5e9cdc87-2fb2-4a09-922d-e248336d87ab",
   "metadata": {},
   "source": [
    "# Logical Function"
   ]
  },
  {
   "cell_type": "code",
   "execution_count": 4,
   "id": "964c80b8-4ae7-4c12-aeb7-2021542a5c26",
   "metadata": {},
   "outputs": [
    {
     "name": "stdout",
     "output_type": "stream",
     "text": [
      "[False False False  True]\n"
     ]
    }
   ],
   "source": [
    "# comparison - >,<, >= , <= , == , !=\n",
    "\n",
    "a =np.array([1,2,3,100])\n",
    "b = np.array([5,6,7,8])\n",
    "\n",
    "res = a>b\n",
    "print(res)"
   ]
  },
  {
   "cell_type": "code",
   "execution_count": 6,
   "id": "4ba1c423-2bd9-43c0-9ae3-8a23a502f816",
   "metadata": {},
   "outputs": [
    {
     "name": "stdout",
     "output_type": "stream",
     "text": [
      "False\n",
      "True\n"
     ]
    }
   ],
   "source": [
    "# all()  ->  shob true kina\n",
    "# any()  ->  jekono ekta true ase kina\n",
    "\n",
    "print(np.all(res))\n",
    "print(np.any(res))\n"
   ]
  },
  {
   "cell_type": "code",
   "execution_count": null,
   "id": "92e428cc-5468-4f2a-bc3b-e3c19d16181f",
   "metadata": {},
   "outputs": [],
   "source": []
  }
 ],
 "metadata": {
  "kernelspec": {
   "display_name": "Python 3 (ipykernel)",
   "language": "python",
   "name": "python3"
  },
  "language_info": {
   "codemirror_mode": {
    "name": "ipython",
    "version": 3
   },
   "file_extension": ".py",
   "mimetype": "text/x-python",
   "name": "python",
   "nbconvert_exporter": "python",
   "pygments_lexer": "ipython3",
   "version": "3.12.10"
  }
 },
 "nbformat": 4,
 "nbformat_minor": 5
}
