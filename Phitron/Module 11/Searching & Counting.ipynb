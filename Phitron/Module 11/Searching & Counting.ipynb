{
 "cells": [
  {
   "cell_type": "code",
   "execution_count": 4,
   "id": "c9895e35-1f26-448f-924c-eb4f97158d3b",
   "metadata": {},
   "outputs": [
    {
     "name": "stdout",
     "output_type": "stream",
     "text": [
      "(array([2]),)\n",
      "(array([1, 3]),)\n",
      "[ 0 34  0 42  0]\n"
     ]
    }
   ],
   "source": [
    "import numpy as np\n",
    "x = np.array([10,34,4,42,12])\n",
    "\n",
    "# np.where\n",
    "index = np.where(x==4)\n",
    "print(index)\n",
    "\n",
    "\n",
    "index = np.where(x>14)\n",
    "print(index)\n",
    "\n",
    "# np.where(condition , x, y) if true x, otherwise replace with y\n",
    "arr = np.where(x>14 , x, 0)\n",
    "print(arr)\n"
   ]
  },
  {
   "cell_type": "code",
   "execution_count": 5,
   "id": "46e2f217-7ba2-4283-8cf0-10ec5fbc3a47",
   "metadata": {},
   "outputs": [
    {
     "name": "stdout",
     "output_type": "stream",
     "text": [
      "(array([1]), array([1]))\n"
     ]
    }
   ],
   "source": [
    "mat = np.array([[10,3,5],[8,4,9]])\n",
    "index = np.where(mat==4)  \n",
    "print(index)"
   ]
  },
  {
   "cell_type": "code",
   "execution_count": 9,
   "id": "03298813-082c-41f8-b871-a518a4bec629",
   "metadata": {},
   "outputs": [
    {
     "name": "stdout",
     "output_type": "stream",
     "text": [
      "3\n",
      "2\n"
     ]
    }
   ],
   "source": [
    "# finding the maximum value from array\n",
    "\n",
    "max_index = np.argmax(x)  # returns index\n",
    "min_index = np.argmin(x)  # returns index\n",
    "print(max_index)\n",
    "print(min_index)"
   ]
  },
  {
   "cell_type": "markdown",
   "id": "55599839-cdba-4d1b-b932-b8058dda0dc6",
   "metadata": {},
   "source": [
    "##  Counting"
   ]
  },
  {
   "cell_type": "code",
   "execution_count": 2,
   "id": "88affac8-556e-43c5-8d6e-aac6e6f37a29",
   "metadata": {},
   "outputs": [
    {
     "name": "stdout",
     "output_type": "stream",
     "text": [
      "[75 95 32 27 31 22 62 23 53 36 20 64 88 24 87 54 60 58 27 82 91 14 83 46\n",
      " 57 54 13 17 60 42 86 22 48 74 39 78 46 54 80  8 56 20 15 71 40 79 33 22\n",
      " 66  3 48 98 87 88 35 46 37 50 33 69 87 27 48 68  9 19 20 37 12 39 50 60\n",
      " 11 13 23 84 56 24 78 15 35 87 60 94 69 17  6 89 83 32 63 83 14  3 78 44\n",
      " 16 35 56 54]\n"
     ]
    }
   ],
   "source": [
    "import numpy as np\n",
    "a = np.random.randint(1,100, size=(100,))\n",
    "print(a)"
   ]
  },
  {
   "cell_type": "code",
   "execution_count": 5,
   "id": "4eaeab9e-a4a7-48d5-b1ef-0eb061d1d489",
   "metadata": {},
   "outputs": [
    {
     "name": "stdout",
     "output_type": "stream",
     "text": [
      "56\n"
     ]
    }
   ],
   "source": [
    "value_great_than_60 = np.count_nonzero(a>40)  #(condition)\n",
    "print(value_great_than_60)"
   ]
  },
  {
   "cell_type": "code",
   "execution_count": 14,
   "id": "5e854dd9-ad19-4b18-814c-72aa5e89e850",
   "metadata": {},
   "outputs": [
    {
     "name": "stdout",
     "output_type": "stream",
     "text": [
      "(array([ 3,  6,  8,  9, 11, 12, 13, 14, 15, 16, 17, 19, 20, 22, 23, 24, 27,\n",
      "       31, 32, 33, 35, 36, 37, 39, 40, 42, 44, 46, 48, 50, 53, 54, 56, 57,\n",
      "       58, 60, 62, 63, 64, 66, 68, 69, 71, 74, 75, 78, 79, 80, 82, 83, 84,\n",
      "       86, 87, 88, 89, 91, 94, 95, 98], dtype=int32), array([2, 1, 1, 1, 1, 1, 2, 2, 2, 1, 2, 1, 3, 3, 2, 2, 3, 1, 2, 2, 3, 1,\n",
      "       2, 2, 1, 1, 1, 3, 3, 2, 1, 4, 3, 1, 1, 4, 1, 1, 1, 1, 1, 2, 1, 1,\n",
      "       1, 3, 1, 1, 1, 3, 1, 1, 4, 2, 1, 1, 1, 1, 1]))\n"
     ]
    }
   ],
   "source": [
    "# finding unique values\n",
    "unique_vals = np.unique(a)\n",
    "\n",
    "# this returns kon unique value koibar ache\n",
    "unique_vals = np.unique(a, return_counts = True)\n",
    "print(unique_vals)"
   ]
  },
  {
   "cell_type": "code",
   "execution_count": null,
   "id": "2ed7702b-da22-4355-ae3e-cc379bd56058",
   "metadata": {},
   "outputs": [],
   "source": []
  },
  {
   "cell_type": "code",
   "execution_count": null,
   "id": "d6335c8c-6178-4124-9e6a-b364bde02677",
   "metadata": {},
   "outputs": [],
   "source": []
  }
 ],
 "metadata": {
  "kernelspec": {
   "display_name": "Python 3 (ipykernel)",
   "language": "python",
   "name": "python3"
  },
  "language_info": {
   "codemirror_mode": {
    "name": "ipython",
    "version": 3
   },
   "file_extension": ".py",
   "mimetype": "text/x-python",
   "name": "python",
   "nbconvert_exporter": "python",
   "pygments_lexer": "ipython3",
   "version": "3.12.10"
  }
 },
 "nbformat": 4,
 "nbformat_minor": 5
}
