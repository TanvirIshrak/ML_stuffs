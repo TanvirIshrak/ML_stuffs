{
 "cells": [
  {
   "cell_type": "markdown",
   "id": "7aaa257b-22ec-43fe-b91b-c7dd440bdd49",
   "metadata": {},
   "source": [
    "# Array Manipulation"
   ]
  },
  {
   "cell_type": "code",
   "execution_count": 1,
   "id": "515b07e5-1b14-42d7-9ae4-4cf6bcdf0016",
   "metadata": {},
   "outputs": [],
   "source": [
    "import numpy as np\n",
    "\n",
    "arr = np.random.randint(1,100 , size =(10,5))"
   ]
  },
  {
   "cell_type": "code",
   "execution_count": 2,
   "id": "6beab620-67c9-4026-97ca-1548bae8cff9",
   "metadata": {},
   "outputs": [
    {
     "data": {
      "text/plain": [
       "(10, 5)"
      ]
     },
     "execution_count": 2,
     "metadata": {},
     "output_type": "execute_result"
    }
   ],
   "source": [
    "arr.shape"
   ]
  },
  {
   "cell_type": "code",
   "execution_count": 12,
   "id": "2fb21ec3-a604-4622-9acf-aeff21db8e59",
   "metadata": {},
   "outputs": [
    {
     "data": {
      "text/plain": [
       "array([[24, 16, 60, 83, 87, 11, 80, 35, 78, 15],\n",
       "       [34, 28, 95, 30, 57, 58, 88, 87, 94, 81],\n",
       "       [99, 94, 34,  9, 89, 66, 84, 71, 57, 31],\n",
       "       [33, 31, 82, 50,  3, 62, 64, 38, 77, 23],\n",
       "       [95, 58, 97, 29, 43, 18, 59, 55, 30, 58]], dtype=int32)"
      ]
     },
     "execution_count": 12,
     "metadata": {},
     "output_type": "execute_result"
    }
   ],
   "source": [
    "b = arr.reshape(5,10)\n",
    "b.shape\n",
    "b.ndim\n",
    "b"
   ]
  },
  {
   "cell_type": "code",
   "execution_count": 17,
   "id": "8fd48688-9b33-4029-9ad7-e09952141e90",
   "metadata": {},
   "outputs": [
    {
     "name": "stdout",
     "output_type": "stream",
     "text": [
      "[24 16 60 83 87 11 80 35 78 15 34 28 95 30 57 58 88 87 94 81 99 94 34  9\n",
      " 89 66 84 71 57 31 33 31 82 50  3 62 64 38 77 23 95 58 97 29 43 18 59 55\n",
      " 30 58]\n",
      "1\n",
      "[24 34 99 33 95 16 28 94 31 58 60 95 34 82 97 83 30  9 50 29 87 57 89  3\n",
      " 43 11 58 66 62 18 80 88 84 64 59 35 87 71 38 55 78 94 57 77 30 15 81 31\n",
      " 23 58]\n",
      "[24 16 60 83 87 11 80 35 78 15 34 28 95 30 57 58 88 87 94 81 99 94 34  9\n",
      " 89 66 84 71 57 31 33 31 82 50  3 62 64 38 77 23 95 58 97 29 43 18 59 55\n",
      " 30 58]\n"
     ]
    }
   ],
   "source": [
    "# changing to 1D from any shape \n",
    "flatten = b.flatten()\n",
    "print(flatten)\n",
    "\n",
    "print(flatten.ndim)  # row wise flattening\n",
    "\n",
    "column_wise_flattening = np.ravel(b,order = \"F\")\n",
    "row_wise_flattening = np.ravel(b,order = \"C\")\n",
    "print(column_wise_flattening)\n",
    "print(row_wise_flattening)\n"
   ]
  },
  {
   "cell_type": "code",
   "execution_count": 20,
   "id": "d4db699c-8cd3-4f2b-9620-709e0855b5dd",
   "metadata": {},
   "outputs": [],
   "source": [
    "\n",
    "a = np.random.randint(1,10 , size =(2,3))\n",
    "b = np.random.randint(20,30 , size =(2,3))\n",
    "\n",
    "\n"
   ]
  },
  {
   "cell_type": "markdown",
   "id": "75cbad32-a2e5-4b21-8394-85ede22804d5",
   "metadata": {},
   "source": [
    "### Concatenate"
   ]
  },
  {
   "cell_type": "code",
   "execution_count": 23,
   "id": "a80aec13-971b-4889-8c16-bcad57b12342",
   "metadata": {},
   "outputs": [
    {
     "name": "stdout",
     "output_type": "stream",
     "text": [
      "[[ 1  5  3]\n",
      " [ 8  6  6]\n",
      " [25 27 21]\n",
      " [20 23 23]]\n",
      "[[ 1  5  3 25 27 21]\n",
      " [ 8  6  6 20 23 23]]\n"
     ]
    }
   ],
   "source": [
    "con = np.concatenate((a,b), axis = 0) # row wise\n",
    "print(con)\n",
    "\n",
    "con = np.concatenate((a,b), axis = 1) # column wise\n",
    "print(con)"
   ]
  },
  {
   "cell_type": "code",
   "execution_count": 29,
   "id": "8cc12844-777f-4957-a299-2a0296b1a82e",
   "metadata": {},
   "outputs": [
    {
     "name": "stdout",
     "output_type": "stream",
     "text": [
      "[[ 5  6  8]\n",
      " [ 9  4  2]\n",
      " [26 20 22]]\n"
     ]
    }
   ],
   "source": [
    "# error\n",
    "\n",
    "# row wise concatenate korar somoi column same thakte hobe\n",
    "# column wise concatenate korar somoi row same thakte hobe\n",
    "\n",
    "\n",
    "a = np.random.randint(1,10 , size =(2,3))\n",
    "b = np.random.randint(20,30 , size =(1,3))\n",
    "\n",
    "\n",
    "r = np.concatenate((a,b) ,axis = 0)  #it runs perfectly\n",
    "# r = np.concatenate((a,b) ,axis = 1)  #it don't run perfectly\n",
    "print(r)"
   ]
  },
  {
   "cell_type": "markdown",
   "id": "e67ffffa-f58b-4c19-a6ff-a892f9125191",
   "metadata": {},
   "source": [
    "### Transpose mat"
   ]
  },
  {
   "cell_type": "code",
   "execution_count": 32,
   "id": "db86567f-7c25-4fab-b5ff-dd83e1f12d0c",
   "metadata": {},
   "outputs": [
    {
     "name": "stdout",
     "output_type": "stream",
     "text": [
      "[[1 4]\n",
      " [2 5]\n",
      " [3 6]]\n"
     ]
    }
   ],
   "source": [
    "mat = np.array([[1,2,3],\n",
    "              [4,5,6]\n",
    "             ])\n",
    "trans = mat.T\n",
    "print(trans)"
   ]
  },
  {
   "cell_type": "code",
   "execution_count": 42,
   "id": "013052ae-8a25-4e52-b0d3-2165b8754425",
   "metadata": {},
   "outputs": [
    {
     "name": "stdout",
     "output_type": "stream",
     "text": [
      "[9 2 4 6 1 1 7 2 9 6]\n",
      "[array([9, 2, 4, 6, 1], dtype=int32), array([1, 7, 2, 9, 6], dtype=int32)]\n"
     ]
    }
   ],
   "source": [
    "# array Split\n",
    "\n",
    "\n",
    "a = np.random.randint(1,10 , size =(10,))\n",
    "print(a)\n",
    "splitted_array = np.array_split(a,2)\n",
    "print(splitted_array)\n"
   ]
  },
  {
   "cell_type": "code",
   "execution_count": null,
   "id": "14f629e9-6812-46e0-af95-c69f895755e4",
   "metadata": {},
   "outputs": [],
   "source": []
  }
 ],
 "metadata": {
  "kernelspec": {
   "display_name": "Python 3 (ipykernel)",
   "language": "python",
   "name": "python3"
  },
  "language_info": {
   "codemirror_mode": {
    "name": "ipython",
    "version": 3
   },
   "file_extension": ".py",
   "mimetype": "text/x-python",
   "name": "python",
   "nbconvert_exporter": "python",
   "pygments_lexer": "ipython3",
   "version": "3.12.10"
  }
 },
 "nbformat": 4,
 "nbformat_minor": 5
}
