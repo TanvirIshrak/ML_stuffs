{
 "cells": [
  {
   "cell_type": "markdown",
   "id": "37badcf1-a77a-4d3b-9eab-081904d80ccd",
   "metadata": {},
   "source": [
    "# Write CSV file"
   ]
  },
  {
   "cell_type": "code",
   "execution_count": 6,
   "id": "e23d5883-0704-49e8-a6e3-6a1ec33a7cbd",
   "metadata": {},
   "outputs": [
    {
     "name": "stdout",
     "output_type": "stream",
     "text": [
      "   A  B  C\n",
      "0  1  6  1\n",
      "1  2  7  2\n",
      "2  3  8  3\n",
      "3  4  9  4\n",
      "4  5  9  5\n"
     ]
    }
   ],
   "source": [
    "import pandas as pd\n",
    "\n",
    "dis = {\"A\":[1,2,3,4,5],\"B\":[6,7,8,9,9],\"C\":[1,2,3,4,5]}\n",
    "d = pd.DataFrame(dis)\n",
    "print(d)\n",
    "\n",
    "d.to_csv(\"Test_new2.csv\",index=False,header=[1,2,3])"
   ]
  },
  {
   "cell_type": "code",
   "execution_count": null,
   "id": "ad20aa52-a333-4140-b73d-191849ffd6f2",
   "metadata": {},
   "outputs": [],
   "source": []
  }
 ],
 "metadata": {
  "kernelspec": {
   "display_name": "Python 3 (ipykernel)",
   "language": "python",
   "name": "python3"
  },
  "language_info": {
   "codemirror_mode": {
    "name": "ipython",
    "version": 3
   },
   "file_extension": ".py",
   "mimetype": "text/x-python",
   "name": "python",
   "nbconvert_exporter": "python",
   "pygments_lexer": "ipython3",
   "version": "3.13.0b4"
  }
 },
 "nbformat": 4,
 "nbformat_minor": 5
}
