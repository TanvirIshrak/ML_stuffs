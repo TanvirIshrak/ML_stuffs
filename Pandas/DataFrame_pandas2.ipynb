{
 "cells": [
  {
   "cell_type": "markdown",
   "id": "fde0d370-12ad-42c2-9648-c6de10fc2afb",
   "metadata": {},
   "source": [
    "# DataFrame"
   ]
  },
  {
   "cell_type": "code",
   "execution_count": 4,
   "id": "c8f5c853-becc-4576-9023-9b8704a1811c",
   "metadata": {},
   "outputs": [
    {
     "name": "stdout",
     "output_type": "stream",
     "text": [
      "     0\n",
      "0   24\n",
      "1   45\n",
      "2  123\n",
      "3   56\n",
      "4  123\n",
      "<class 'pandas.core.frame.DataFrame'>\n"
     ]
    }
   ],
   "source": [
    "import pandas as pd\n",
    "\n",
    "list = [24,45,123,56,123]\n",
    "var = pd.DataFrame(list)\n",
    "\n",
    "print(var)\n",
    "print(type(var))"
   ]
  },
  {
   "cell_type": "code",
   "execution_count": 8,
   "id": "de098799-3bc1-48e2-9b44-0fce4762d999",
   "metadata": {},
   "outputs": [
    {
     "name": "stdout",
     "output_type": "stream",
     "text": [
      "    a   s\n",
      "0   4  34\n",
      "1  32  56\n",
      "2   5  23\n",
      "3   3  56\n",
      "4   1  23\n",
      "5   3  45\n",
      "    a\n",
      "0   4\n",
      "1  32\n",
      "2   5\n",
      "3   3\n",
      "4   1\n",
      "5   3\n",
      "3\n"
     ]
    }
   ],
   "source": [
    "dictionary = {\"a\":[4,32,5,3,1,3,],\"s\":[34,56,23,56,23,45]}  #lengths has to be same\n",
    "var1 = pd.DataFrame(dictionary)\n",
    "var2= pd.DataFrame(dictionary,columns=[\"a\"])\n",
    "                                #this is just to call specific columns\n",
    "\n",
    "print(var1)\n",
    "print(var2)\n",
    "print(var1[\"a\"][3])  # to find specific column-row value"
   ]
  },
  {
   "cell_type": "code",
   "execution_count": 9,
   "id": "5e239c56-aa82-4497-8ae9-161e1d8b7918",
   "metadata": {},
   "outputs": [
    {
     "name": "stdout",
     "output_type": "stream",
     "text": [
      "    0   1   2   3\n",
      "0  34  56  23  56\n",
      "1  45  65  87  98\n"
     ]
    }
   ],
   "source": [
    "# making dataframe with list of lists\n",
    "list1=[[34,56,23,56],[45,65,87,98]]\n",
    "var3=pd.DataFrame(list1)\n",
    "print(var3)"
   ]
  },
  {
   "cell_type": "code",
   "execution_count": null,
   "id": "8b1ec664-cb90-4b2f-9994-d20508ca17a7",
   "metadata": {},
   "outputs": [],
   "source": []
  }
 ],
 "metadata": {
  "kernelspec": {
   "display_name": "Python 3 (ipykernel)",
   "language": "python",
   "name": "python3"
  },
  "language_info": {
   "codemirror_mode": {
    "name": "ipython",
    "version": 3
   },
   "file_extension": ".py",
   "mimetype": "text/x-python",
   "name": "python",
   "nbconvert_exporter": "python",
   "pygments_lexer": "ipython3",
   "version": "3.13.0b4"
  }
 },
 "nbformat": 4,
 "nbformat_minor": 5
}
